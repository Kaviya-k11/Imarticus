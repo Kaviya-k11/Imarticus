{
 "cells": [
  {
   "cell_type": "code",
   "execution_count": 10,
   "id": "f76a67ba",
   "metadata": {},
   "outputs": [
    {
     "data": {
      "text/html": [
       "<div>\n",
       "<style scoped>\n",
       "    .dataframe tbody tr th:only-of-type {\n",
       "        vertical-align: middle;\n",
       "    }\n",
       "\n",
       "    .dataframe tbody tr th {\n",
       "        vertical-align: top;\n",
       "    }\n",
       "\n",
       "    .dataframe thead th {\n",
       "        text-align: right;\n",
       "    }\n",
       "</style>\n",
       "<table border=\"1\" class=\"dataframe\">\n",
       "  <thead>\n",
       "    <tr style=\"text-align: right;\">\n",
       "      <th></th>\n",
       "      <th>City</th>\n",
       "      <th>No_of_deaths_in_last_month</th>\n",
       "      <th>No_of_deaths_in_current_month</th>\n",
       "    </tr>\n",
       "  </thead>\n",
       "  <tbody>\n",
       "    <tr>\n",
       "      <th>0</th>\n",
       "      <td>New York</td>\n",
       "      <td>3406</td>\n",
       "      <td>4398</td>\n",
       "    </tr>\n",
       "    <tr>\n",
       "      <th>1</th>\n",
       "      <td>New Jersey</td>\n",
       "      <td>1469</td>\n",
       "      <td>1846</td>\n",
       "    </tr>\n",
       "    <tr>\n",
       "      <th>2</th>\n",
       "      <td>Michigan</td>\n",
       "      <td>662</td>\n",
       "      <td>1288</td>\n",
       "    </tr>\n",
       "    <tr>\n",
       "      <th>3</th>\n",
       "      <td>California</td>\n",
       "      <td>583</td>\n",
       "      <td>382</td>\n",
       "    </tr>\n",
       "    <tr>\n",
       "      <th>4</th>\n",
       "      <td>Florida</td>\n",
       "      <td>582</td>\n",
       "      <td>879</td>\n",
       "    </tr>\n",
       "    <tr>\n",
       "      <th>5</th>\n",
       "      <td>Massachusetts</td>\n",
       "      <td>526</td>\n",
       "      <td>430</td>\n",
       "    </tr>\n",
       "    <tr>\n",
       "      <th>6</th>\n",
       "      <td>Texas</td>\n",
       "      <td>461</td>\n",
       "      <td>321</td>\n",
       "    </tr>\n",
       "  </tbody>\n",
       "</table>\n",
       "</div>"
      ],
      "text/plain": [
       "            City  No_of_deaths_in_last_month  No_of_deaths_in_current_month\n",
       "0       New York                        3406                           4398\n",
       "1     New Jersey                        1469                           1846\n",
       "2       Michigan                         662                           1288\n",
       "3     California                         583                            382\n",
       "4        Florida                         582                            879\n",
       "5  Massachusetts                         526                            430\n",
       "6          Texas                         461                            321"
      ]
     },
     "execution_count": 10,
     "metadata": {},
     "output_type": "execute_result"
    }
   ],
   "source": [
    "import pandas as pd\n",
    "import numpy as np\n",
    "City = [\"New York\", \"New Jersey\", \"Michigan\", \"California\", \"Florida\", \"Massachusetts\", \"Texas\"]\n",
    "No_of_deaths_in_last_month = [3406, 1469, 662, 583, 582, 526, 461]\n",
    "No_of_deaths_in_current_month = [4398, 1846, 1288, 382, 879, 430, 321]\n",
    "df = pd.DataFrame({\"City\": City, \"No_of_deaths_in_last_month\":No_of_deaths_in_last_month, \"No_of_deaths_in_current_month\": No_of_deaths_in_current_month})\n",
    "df"
   ]
  },
  {
   "cell_type": "code",
   "execution_count": 8,
   "id": "abb37bf5",
   "metadata": {},
   "outputs": [
    {
     "name": "stdout",
     "output_type": "stream",
     "text": [
      "prediction [4427.8, 1909.7, 860.6, 757.9, 756.6, 683.8, 599.3]\n",
      "actual current death value  [4398, 1846, 1288, 382, 879, 430, 321]\n"
     ]
    }
   ],
   "source": [
    "prediction_value=[]\n",
    "significance=[]\n",
    "for i in No_of_deaths_in_last_month:\n",
    "    prediction_value.append((0.30*i)+i)\n",
    "    significance.append(0.1*i)\n",
    "print(\"prediction\",prediction_value)\n",
    "print(\"actual current death value \",No_of_deaths_in_current_month)\n"
   ]
  },
  {
   "cell_type": "code",
   "execution_count": 13,
   "id": "ad2e7da9",
   "metadata": {},
   "outputs": [
    {
     "name": "stdout",
     "output_type": "stream",
     "text": [
      "difference between prediction and current [ 29.8  63.7 427.4 375.9 122.4 253.8 278.3]\n",
      "signicance of 0.1 [340.6, 146.9, 66.2, 58.300000000000004, 58.2, 52.6, 46.1]\n"
     ]
    }
   ],
   "source": [
    "predicted=np.array(prediction_value)\n",
    "No_of_deaths_in_current_month=np.array(No_of_deaths_in_current_month)\n",
    "difference=np.absolute(No_of_deaths_in_current_month - predicted)\n",
    "print(\"difference between prediction and current\",difference)\n",
    "print(\"signicance of 0.1\",significance)\n"
   ]
  },
  {
   "cell_type": "code",
   "execution_count": null,
   "id": "1499359c",
   "metadata": {},
   "outputs": [],
   "source": []
  }
 ],
 "metadata": {
  "kernelspec": {
   "display_name": "Python 3 (ipykernel)",
   "language": "python",
   "name": "python3"
  },
  "language_info": {
   "codemirror_mode": {
    "name": "ipython",
    "version": 3
   },
   "file_extension": ".py",
   "mimetype": "text/x-python",
   "name": "python",
   "nbconvert_exporter": "python",
   "pygments_lexer": "ipython3",
   "version": "3.9.7"
  }
 },
 "nbformat": 4,
 "nbformat_minor": 5
}
