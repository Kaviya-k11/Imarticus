{
  "cells": [
    {
      "cell_type": "code",
      "execution_count": null,
      "metadata": {
        "colab": {
          "base_uri": "https://localhost:8080/"
        },
        "id": "229vhaQmP4H4",
        "outputId": "81a9830b-9e29-436a-a4f9-b13484b2f58e"
      },
      "outputs": [
        {
          "output_type": "stream",
          "name": "stdout",
          "text": [
            "\r0% [Working]\r            \rHit:1 https://cloud.r-project.org/bin/linux/ubuntu bionic-cran40/ InRelease\n",
            "\r0% [Waiting for headers] [Connecting to security.ubuntu.com (185.125.190.39)] [\r                                                                               \rHit:2 http://archive.ubuntu.com/ubuntu bionic InRelease\n",
            "\r0% [Waiting for headers] [Connecting to security.ubuntu.com (185.125.190.39)] [\r0% [1 InRelease gpgv 3,626 B] [Waiting for headers] [Connecting to security.ubu\r                                                                               \rGet:3 http://archive.ubuntu.com/ubuntu bionic-updates InRelease [88.7 kB]\n",
            "\r0% [1 InRelease gpgv 3,626 B] [3 InRelease 14.2 kB/88.7 kB 16%] [Connecting to \r0% [1 InRelease gpgv 3,626 B] [Waiting for headers] [Waiting for headers] [Wait\r                                                                               \rGet:4 http://archive.ubuntu.com/ubuntu bionic-backports InRelease [74.6 kB]\n",
            "\r0% [1 InRelease gpgv 3,626 B] [4 InRelease 17.1 kB/74.6 kB 23%] [Waiting for he\r0% [1 InRelease gpgv 3,626 B] [Waiting for headers] [Waiting for headers] [Wait\r                                                                               \rHit:5 http://ppa.launchpad.net/c2d4u.team/c2d4u4.0+/ubuntu bionic InRelease\n",
            "Get:6 http://security.ubuntu.com/ubuntu bionic-security InRelease [88.7 kB]\n",
            "Ign:7 https://developer.download.nvidia.com/compute/machine-learning/repos/ubuntu1804/x86_64  InRelease\n",
            "Hit:8 https://developer.download.nvidia.com/compute/cuda/repos/ubuntu1804/x86_64  InRelease\n",
            "Hit:9 https://developer.download.nvidia.com/compute/machine-learning/repos/ubuntu1804/x86_64  Release\n",
            "Hit:10 http://ppa.launchpad.net/cran/libgit2/ubuntu bionic InRelease\n",
            "Hit:11 http://ppa.launchpad.net/deadsnakes/ppa/ubuntu bionic InRelease\n",
            "Hit:12 http://ppa.launchpad.net/graphics-drivers/ppa/ubuntu bionic InRelease\n",
            "Fetched 252 kB in 2s (118 kB/s)\n",
            "Reading package lists... Done\n"
          ]
        }
      ],
      "source": [
        "!apt-get update -y\n"
      ]
    },
    {
      "cell_type": "code",
      "execution_count": null,
      "metadata": {
        "id": "glXiH5amP6ma"
      },
      "outputs": [],
      "source": [
        "!apt-get install openjdk-8-jdk-headless -qq > /dev/null"
      ]
    },
    {
      "cell_type": "code",
      "execution_count": null,
      "metadata": {
        "id": "Lc68xnjSQHhv"
      },
      "outputs": [],
      "source": [
        "!wget -q https://archive.apache.org/dist/spark/spark-3.1.2/spark-3.1.2-bin-hadoop2.7.tgz"
      ]
    },
    {
      "cell_type": "code",
      "execution_count": null,
      "metadata": {
        "id": "F6KndrdvQXyy"
      },
      "outputs": [],
      "source": [
        "!tar xf spark-3.1.2-bin-hadoop2.7.tgz\n"
      ]
    },
    {
      "cell_type": "code",
      "execution_count": null,
      "metadata": {
        "id": "jMwPBlssQrlY"
      },
      "outputs": [],
      "source": [
        "import os\n",
        "os.environ[\"JAVA_HOME\"] = \"/usr/lib/jvm/java-8-openjdk-amd64\"\n",
        "os.environ[\"SPARK_HOME\"] = \"/content/spark-3.1.2-bin-hadoop2.7\""
      ]
    },
    {
      "cell_type": "code",
      "execution_count": null,
      "metadata": {
        "id": "5L2s4YWuQwh_"
      },
      "outputs": [],
      "source": [
        "!pip install -q findspark\n",
        "import findspark\n",
        "findspark.init()"
      ]
    },
    {
      "cell_type": "code",
      "execution_count": null,
      "metadata": {
        "id": "2yjzU6prQ81I"
      },
      "outputs": [],
      "source": [
        "from pyspark.sql import SparkSession\n",
        "spark = (SparkSession\n",
        ".builder\n",
        ".appName(\"<Kaviya>\")\n",
        ".getOrCreate())"
      ]
    },
    {
      "cell_type": "code",
      "execution_count": null,
      "metadata": {
        "id": "B-Gj3TbbD0fg"
      },
      "outputs": [],
      "source": [
        "import pyspark \n",
        "from pyspark.sql import SparkSession "
      ]
    },
    {
      "cell_type": "code",
      "execution_count": null,
      "metadata": {
        "id": "xhZMfa00Dp71"
      },
      "outputs": [],
      "source": [
        "spark=SparkSession.builder.appName('Smart_Grid_Stability').getOrCreate()"
      ]
    },
    {
      "cell_type": "code",
      "source": [
        "import gdown"
      ],
      "metadata": {
        "id": "fLregK3svEGY"
      },
      "execution_count": null,
      "outputs": []
    },
    {
      "cell_type": "code",
      "execution_count": null,
      "metadata": {
        "id": "O9ntw-Pi_2r-"
      },
      "outputs": [],
      "source": [
        "history_game=spark.read.csv('/content/drive/MyDrive/chess/chess_wc_history_game_info.csv',inferSchema=True,header=True) "
      ]
    },
    {
      "cell_type": "code",
      "source": [
        "history_moves=spark.read.csv('/content/drive/MyDrive/chess/chess_wc_history_moves.csv',inferSchema=True,header=True) "
      ],
      "metadata": {
        "id": "kTWakEXOxrfL"
      },
      "execution_count": null,
      "outputs": []
    },
    {
      "cell_type": "code",
      "source": [
        "eco_codes=spark.read.csv('/content/drive/MyDrive/chess/eco_codes.csv',inferSchema=True,header=True) "
      ],
      "metadata": {
        "id": "0_t-DfXZxrq8"
      },
      "execution_count": null,
      "outputs": []
    },
    {
      "cell_type": "code",
      "execution_count": null,
      "metadata": {
        "colab": {
          "base_uri": "https://localhost:8080/"
        },
        "id": "iYSiqfv_Nqqj",
        "outputId": "e9c6af80-3375-4ae0-edfb-a54160761020"
      },
      "outputs": [
        {
          "output_type": "execute_result",
          "data": {
            "text/plain": [
              "DataFrame[summary: string, game_id: string, game_order: string, event: string, site: string, date_played: string, round: string, white: string, black: string, result: string, white_elo: string, black_elo: string, white_title: string, black_title: string, winner: string, winner_elo: string, loser: string, loser_elo: string, winner_loser_elo_diff: string, eco: string, date_created: string, tournament_name: string]"
            ]
          },
          "metadata": {},
          "execution_count": 63
        }
      ],
      "source": [
        "history_game.describe()"
      ]
    },
    {
      "cell_type": "code",
      "execution_count": null,
      "metadata": {
        "colab": {
          "base_uri": "https://localhost:8080/"
        },
        "id": "m4MmIsRrNxD9",
        "outputId": "1a85fd85-e100-4b4f-bb93-89477019bd71"
      },
      "outputs": [
        {
          "output_type": "stream",
          "name": "stdout",
          "text": [
            "root\n",
            " |-- game_id: string (nullable = true)\n",
            " |-- game_order: integer (nullable = true)\n",
            " |-- event: string (nullable = true)\n",
            " |-- site: string (nullable = true)\n",
            " |-- date_played: string (nullable = true)\n",
            " |-- round: double (nullable = true)\n",
            " |-- white: string (nullable = true)\n",
            " |-- black: string (nullable = true)\n",
            " |-- result: string (nullable = true)\n",
            " |-- white_elo: integer (nullable = true)\n",
            " |-- black_elo: integer (nullable = true)\n",
            " |-- white_title: string (nullable = true)\n",
            " |-- black_title: string (nullable = true)\n",
            " |-- winner: string (nullable = true)\n",
            " |-- winner_elo: integer (nullable = true)\n",
            " |-- loser: string (nullable = true)\n",
            " |-- loser_elo: integer (nullable = true)\n",
            " |-- winner_loser_elo_diff: integer (nullable = true)\n",
            " |-- eco: string (nullable = true)\n",
            " |-- date_created: string (nullable = true)\n",
            " |-- tournament_name: string (nullable = true)\n",
            "\n"
          ]
        }
      ],
      "source": [
        "history_game.printSchema()"
      ]
    },
    {
      "cell_type": "code",
      "execution_count": null,
      "metadata": {
        "colab": {
          "base_uri": "https://localhost:8080/"
        },
        "id": "KWyKMLhjDyoq",
        "outputId": "49cae965-b99f-4613-e037-22ae8377b41d"
      },
      "outputs": [
        {
          "output_type": "stream",
          "name": "stdout",
          "text": [
            "+--------------------+----------+--------+----------+-----------+-----+----------------+----------------+-------+---------+---------+-----------+-----------+---------+----------+----------------+---------+---------------------+---+--------------------+---------------+\n",
            "|             game_id|game_order|   event|      site|date_played|round|           white|           black| result|white_elo|black_elo|white_title|black_title|   winner|winner_elo|           loser|loser_elo|winner_loser_elo_diff|eco|        date_created|tournament_name|\n",
            "+--------------------+----------+--------+----------+-----------+-----+----------------+----------------+-------+---------+---------+-----------+-----------+---------+----------+----------------+---------+---------------------+---+--------------------+---------------+\n",
            "|86e0b7f5-7b94-4ae...|         1|WCh 2021| Dubai UAE| 2021.11.26|  1.0|Nepomniachtchi,I|       Carlsen,M|1/2-1/2|     2782|     2855|       null|       null|     draw|      null|            draw|     null|                    0|C88|2022-07-22T22:33:...| WorldChamp2021|\n",
            "|dc4a10ab-54cf-49d...|         2|WCh 2021| Dubai UAE| 2021.11.27|  2.0|       Carlsen,M|Nepomniachtchi,I|1/2-1/2|     2855|     2782|       null|       null|     draw|      null|            draw|     null|                    0|E06|2022-07-22T22:33:...| WorldChamp2021|\n",
            "|f042ca37-8899-488...|         3|WCh 2021| Dubai UAE| 2021.11.28|  3.0|Nepomniachtchi,I|       Carlsen,M|1/2-1/2|     2782|     2855|       null|       null|     draw|      null|            draw|     null|                    0|C88|2022-07-22T22:33:...| WorldChamp2021|\n",
            "|f70e4bbc-21e3-46f...|         4|WCh 2021| Dubai UAE| 2021.11.30|  4.0|       Carlsen,M|Nepomniachtchi,I|1/2-1/2|     2855|     2782|       null|       null|     draw|      null|            draw|     null|                    0|C42|2022-07-22T22:33:...| WorldChamp2021|\n",
            "|c941c323-308a-4c8...|         5|WCh 2021| Dubai UAE| 2021.12.01|  5.0|Nepomniachtchi,I|       Carlsen,M|1/2-1/2|     2782|     2855|       null|       null|     draw|      null|            draw|     null|                    0|C88|2022-07-22T22:33:...| WorldChamp2021|\n",
            "|58e83255-93bb-4d5...|         6|WCh 2021| Dubai UAE| 2021.12.03|  6.0|       Carlsen,M|Nepomniachtchi,I|    1-0|     2855|     2782|       null|       null|Carlsen,M|      2855|Nepomniachtchi,I|     2782|                   73|D02|2022-07-22T22:33:...| WorldChamp2021|\n",
            "|29181d93-73f4-4fb...|         7|WCh 2021| Dubai UAE| 2021.12.04|  7.0|Nepomniachtchi,I|       Carlsen,M|1/2-1/2|     2782|     2855|       null|       null|     draw|      null|            draw|     null|                    0|C88|2022-07-22T22:33:...| WorldChamp2021|\n",
            "|8a4ccd8c-d437-429...|         8|WCh 2021| Dubai UAE| 2021.12.05|  8.0|       Carlsen,M|Nepomniachtchi,I|    1-0|     2855|     2782|       null|       null|Carlsen,M|      2855|Nepomniachtchi,I|     2782|                   73|C43|2022-07-22T22:33:...| WorldChamp2021|\n",
            "|55a122db-27d1-495...|         9|WCh 2021| Dubai UAE| 2021.12.07|  9.0|Nepomniachtchi,I|       Carlsen,M|    0-1|     2782|     2855|       null|       null|Carlsen,M|      2855|Nepomniachtchi,I|     2782|                   73|A13|2022-07-22T22:33:...| WorldChamp2021|\n",
            "|1f900d18-5ea3-4f4...|        10|WCh 2021| Dubai UAE| 2021.12.08| 10.0|       Carlsen,M|Nepomniachtchi,I|1/2-1/2|     2855|     2782|       null|       null|     draw|      null|            draw|     null|                    0|C42|2022-07-22T22:33:...| WorldChamp2021|\n",
            "|c512a953-a341-47c...|        11|WCh 2021| Dubai UAE| 2021.12.10| 11.0|Nepomniachtchi,I|       Carlsen,M|    0-1|     2782|     2855|       null|       null|Carlsen,M|      2855|Nepomniachtchi,I|     2782|                   73|C50|2022-07-22T22:33:...| WorldChamp2021|\n",
            "|99d39a93-427e-4d1...|         1|WCh 2018|London ENG| 2018.11.09|  1.0|Caruana, Fabiano| Carlsen, Magnus|1/2-1/2|     2832|     2835|         GM|         GM|     draw|      null|            draw|     null|                    0|B31|2022-07-22T22:33:...| WorldChamp2018|\n",
            "|c87ceb3e-67a7-45d...|         2|WCh 2018|London ENG| 2018.11.10|  2.0| Carlsen, Magnus|Caruana, Fabiano|1/2-1/2|     2835|     2832|         GM|         GM|     draw|      null|            draw|     null|                    0|D37|2022-07-22T22:33:...| WorldChamp2018|\n",
            "|d50510ea-9c1a-460...|         3|WCh 2018|London ENG| 2018.11.12|  3.0|Caruana, Fabiano| Carlsen, Magnus|1/2-1/2|     2832|     2835|         GM|         GM|     draw|      null|            draw|     null|                    0|B31|2022-07-22T22:33:...| WorldChamp2018|\n",
            "|e899e16a-281e-41b...|         4|WCh 2018|London ENG| 2018.11.13|  4.0| Carlsen, Magnus|Caruana, Fabiano|1/2-1/2|     2835|     2832|         GM|         GM|     draw|      null|            draw|     null|                    0|A29|2022-07-22T22:33:...| WorldChamp2018|\n",
            "|59f8da88-fd21-405...|         5|WCh 2018|London ENG| 2018.11.15|  5.0|Caruana, Fabiano| Carlsen, Magnus|1/2-1/2|     2832|     2835|         GM|         GM|     draw|      null|            draw|     null|                    0|B31|2022-07-22T22:33:...| WorldChamp2018|\n",
            "|6dcc4b46-3155-47e...|         6|WCh 2018|London ENG| 2018.11.16|  6.0| Carlsen, Magnus|Caruana, Fabiano|1/2-1/2|     2835|     2832|         GM|         GM|     draw|      null|            draw|     null|                    0|C42|2022-07-22T22:33:...| WorldChamp2018|\n",
            "|c0c727cf-03ec-4b4...|         7|WCh 2018|London ENG| 2018.11.18|  7.0| Carlsen, Magnus|Caruana, Fabiano|1/2-1/2|     2835|     2832|         GM|         GM|     draw|      null|            draw|     null|                    0|D37|2022-07-22T22:33:...| WorldChamp2018|\n",
            "|4c14e044-cacc-405...|         8|WCh 2018|London ENG| 2018.11.19|  8.0|Caruana, Fabiano| Carlsen, Magnus|1/2-1/2|     2832|     2835|         GM|         GM|     draw|      null|            draw|     null|                    0|B33|2022-07-22T22:33:...| WorldChamp2018|\n",
            "|3f4eb26e-3cd1-43b...|         9|WCh 2018|London ENG| 2018.11.21|  9.0| Carlsen, Magnus|Caruana, Fabiano|1/2-1/2|     2835|     2832|         GM|         GM|     draw|      null|            draw|     null|                    0|A29|2022-07-22T22:33:...| WorldChamp2018|\n",
            "+--------------------+----------+--------+----------+-----------+-----+----------------+----------------+-------+---------+---------+-----------+-----------+---------+----------+----------------+---------+---------------------+---+--------------------+---------------+\n",
            "only showing top 20 rows\n",
            "\n"
          ]
        }
      ],
      "source": [
        "history_game.show()"
      ]
    },
    {
      "cell_type": "code",
      "execution_count": null,
      "metadata": {
        "colab": {
          "base_uri": "https://localhost:8080/"
        },
        "id": "bmTUzalFDK23",
        "outputId": "88c9fe16-ed85-4681-f2b1-4f80060868d6"
      },
      "outputs": [
        {
          "output_type": "stream",
          "name": "stdout",
          "text": [
            "+--------------------+----------+--------+---------+-----------+-----+----------------+----------------+-------+---------+---------+-----------+-----------+------+----------+-----+---------+---------------------+---+--------------------+---------------+\n",
            "|             game_id|game_order|   event|     site|date_played|round|           white|           black| result|white_elo|black_elo|white_title|black_title|winner|winner_elo|loser|loser_elo|winner_loser_elo_diff|eco|        date_created|tournament_name|\n",
            "+--------------------+----------+--------+---------+-----------+-----+----------------+----------------+-------+---------+---------+-----------+-----------+------+----------+-----+---------+---------------------+---+--------------------+---------------+\n",
            "|86e0b7f5-7b94-4ae...|         1|WCh 2021|Dubai UAE| 2021.11.26|  1.0|Nepomniachtchi,I|       Carlsen,M|1/2-1/2|     2782|     2855|       null|       null|  draw|      null| draw|     null|                    0|C88|2022-07-22T22:33:...| WorldChamp2021|\n",
            "|dc4a10ab-54cf-49d...|         2|WCh 2021|Dubai UAE| 2021.11.27|  2.0|       Carlsen,M|Nepomniachtchi,I|1/2-1/2|     2855|     2782|       null|       null|  draw|      null| draw|     null|                    0|E06|2022-07-22T22:33:...| WorldChamp2021|\n",
            "|f042ca37-8899-488...|         3|WCh 2021|Dubai UAE| 2021.11.28|  3.0|Nepomniachtchi,I|       Carlsen,M|1/2-1/2|     2782|     2855|       null|       null|  draw|      null| draw|     null|                    0|C88|2022-07-22T22:33:...| WorldChamp2021|\n",
            "|f70e4bbc-21e3-46f...|         4|WCh 2021|Dubai UAE| 2021.11.30|  4.0|       Carlsen,M|Nepomniachtchi,I|1/2-1/2|     2855|     2782|       null|       null|  draw|      null| draw|     null|                    0|C42|2022-07-22T22:33:...| WorldChamp2021|\n",
            "|c941c323-308a-4c8...|         5|WCh 2021|Dubai UAE| 2021.12.01|  5.0|Nepomniachtchi,I|       Carlsen,M|1/2-1/2|     2782|     2855|       null|       null|  draw|      null| draw|     null|                    0|C88|2022-07-22T22:33:...| WorldChamp2021|\n",
            "+--------------------+----------+--------+---------+-----------+-----+----------------+----------------+-------+---------+---------+-----------+-----------+------+----------+-----+---------+---------------------+---+--------------------+---------------+\n",
            "only showing top 5 rows\n",
            "\n"
          ]
        }
      ],
      "source": [
        "history_game.show(5)"
      ]
    },
    {
      "cell_type": "code",
      "source": [
        "history_moves.show()"
      ],
      "metadata": {
        "colab": {
          "base_uri": "https://localhost:8080/"
        },
        "id": "gU3GBe7LyesL",
        "outputId": "df39d5d3-9abc-4b02-f6a2-577a5f7d044b"
      },
      "execution_count": null,
      "outputs": [
        {
          "output_type": "stream",
          "name": "stdout",
          "text": [
            "+--------------------+-------+------------+----------------+--------+----+-----------+---------+-----+-----+--------------------+--------+-------------+--------------+----------------------+------------+------------------------+-----------+-----------+----------------+----------------+-----------------+-----------------+------------------+------------------+------------------+------------------+----------------+----------------+------------------------+------------------------+--------------------+--------------------+--------------------+--------------------+--------------------+--------------------+--------------------+--------------------+--------------------+--------------------+--------------------+--------------------+--------------------+--------------------+--------------------+--------------------+--------------------+--------------------+--------------------+--------------------+--------------------+--------------------+--------------------+--------------------+--------------------+--------------------+--------------------+--------------------+--------------------+--------------------+--------------------+--------------------+--------------------+\n",
            "|             game_id|move_no|move_no_pair|          player|notation|move|from_square|to_square|piece|color|                 fen|is_check|is_check_mate|is_fifty_moves|is_fivefold_repetition|is_game_over|is_insufficient_material|white_count|black_count|white_pawn_count|black_pawn_count|white_queen_count|black_queen_count|white_bishop_count|black_bishop_count|white_knight_count|black_knight_count|white_rook_count|black_rook_count|captured_score_for_white|captured_score_for_black|fen_row1_white_count|fen_row2_white_count|fen_row3_white_count|fen_row4_white_count|fen_row5_white_count|fen_row6_white_count|fen_row7_white_count|fen_row8_white_count|fen_row1_white_value|fen_row2_white_value|fen_row3_white_value|fen_row4_white_value|fen_row5_white_value|fen_row6_white_value|fen_row7_white_value|fen_row8_white_value|fen_row1_black_count|fen_row2_black_count|fen_row3_black_count|fen_row4_black_count|fen_row5_black_count|fen_row6_black_count|fen_row7_black_count|fen_row8_black_count|fen_row1_black_value|fen_row2_black_value|fen_row3_black_value|fen_row4_black_value|fen_row5_black_value|fen_row6_black_value|fen_row7_black_value|fen_row8_black_value|       move_sequence|\n",
            "+--------------------+-------+------------+----------------+--------+----+-----------+---------+-----+-----+--------------------+--------+-------------+--------------+----------------------+------------+------------------------+-----------+-----------+----------------+----------------+-----------------+-----------------+------------------+------------------+------------------+------------------+----------------+----------------+------------------------+------------------------+--------------------+--------------------+--------------------+--------------------+--------------------+--------------------+--------------------+--------------------+--------------------+--------------------+--------------------+--------------------+--------------------+--------------------+--------------------+--------------------+--------------------+--------------------+--------------------+--------------------+--------------------+--------------------+--------------------+--------------------+--------------------+--------------------+--------------------+--------------------+--------------------+--------------------+--------------------+--------------------+--------------------+\n",
            "|86e0b7f5-7b94-4ae...|      1|           1|Nepomniachtchi,I|      e4|e2e4|         e2|       e4|    P|White|rnbqkbnr/pppppppp...|       0|            0|             0|                     0|           0|                       0|         16|         16|               8|               8|                1|                1|                 2|                 2|                 2|                 2|               2|               2|                       0|                       0|                   8|                   7|                   0|                   1|                   0|                   0|                   0|                   0|                  31|                   7|                   0|                   1|                   0|                   0|                   0|                   0|                   0|                   0|                   0|                   0|                   0|                   0|                   8|                   8|                   0|                   0|                   0|                   0|                   0|                   0|                   8|                  31|                  e4|\n",
            "|86e0b7f5-7b94-4ae...|      2|           1|       Carlsen,M|      e5|e7e5|         e7|       e5|    P|Black|rnbqkbnr/pppp1ppp...|       0|            0|             0|                     0|           0|                       0|         16|         16|               8|               8|                1|                1|                 2|                 2|                 2|                 2|               2|               2|                       0|                       0|                   8|                   7|                   0|                   1|                   0|                   0|                   0|                   0|                  31|                   7|                   0|                   1|                   0|                   0|                   0|                   0|                   0|                   0|                   0|                   0|                   1|                   0|                   7|                   8|                   0|                   0|                   0|                   0|                   1|                   0|                   7|                  31|               e4|e5|\n",
            "|86e0b7f5-7b94-4ae...|      3|           2|Nepomniachtchi,I|     Nf3|g1f3|         g1|       f3|    N|White|rnbqkbnr/pppp1ppp...|       0|            0|             0|                     0|           0|                       0|         16|         16|               8|               8|                1|                1|                 2|                 2|                 2|                 2|               2|               2|                       0|                       0|                   7|                   7|                   1|                   1|                   0|                   0|                   0|                   0|                  28|                   7|                   3|                   1|                   0|                   0|                   0|                   0|                   0|                   0|                   0|                   0|                   1|                   0|                   7|                   8|                   0|                   0|                   0|                   0|                   1|                   0|                   7|                  31|           e4|e5|Nf3|\n",
            "|86e0b7f5-7b94-4ae...|      4|           2|       Carlsen,M|     Nc6|b8c6|         b8|       c6|    N|Black|r1bqkbnr/pppp1ppp...|       0|            0|             0|                     0|           0|                       0|         16|         16|               8|               8|                1|                1|                 2|                 2|                 2|                 2|               2|               2|                       0|                       0|                   7|                   7|                   1|                   1|                   0|                   0|                   0|                   0|                  28|                   7|                   3|                   1|                   0|                   0|                   0|                   0|                   0|                   0|                   0|                   0|                   1|                   1|                   7|                   7|                   0|                   0|                   0|                   0|                   1|                   3|                   7|                  28|       e4|e5|Nf3|Nc6|\n",
            "|86e0b7f5-7b94-4ae...|      5|           3|Nepomniachtchi,I|     Bb5|f1b5|         f1|       b5|    B|White|r1bqkbnr/pppp1ppp...|       0|            0|             0|                     0|           0|                       0|         16|         16|               8|               8|                1|                1|                 2|                 2|                 2|                 2|               2|               2|                       0|                       0|                   6|                   7|                   1|                   1|                   1|                   0|                   0|                   0|                  25|                   7|                   3|                   1|                   3|                   0|                   0|                   0|                   0|                   0|                   0|                   0|                   1|                   1|                   7|                   7|                   0|                   0|                   0|                   0|                   1|                   3|                   7|                  28|   e4|e5|Nf3|Nc6|Bb5|\n",
            "|86e0b7f5-7b94-4ae...|      6|           3|       Carlsen,M|      a6|a7a6|         a7|       a6|    P|Black|r1bqkbnr/1ppp1ppp...|       0|            0|             0|                     0|           0|                       0|         16|         16|               8|               8|                1|                1|                 2|                 2|                 2|                 2|               2|               2|                       0|                       0|                   6|                   7|                   1|                   1|                   1|                   0|                   0|                   0|                  25|                   7|                   3|                   1|                   3|                   0|                   0|                   0|                   0|                   0|                   0|                   0|                   1|                   2|                   6|                   7|                   0|                   0|                   0|                   0|                   1|                   4|                   6|                  28|e4|e5|Nf3|Nc6|Bb5|a6|\n",
            "|86e0b7f5-7b94-4ae...|      7|           4|Nepomniachtchi,I|     Ba4|b5a4|         b5|       a4|    B|White|r1bqkbnr/1ppp1ppp...|       0|            0|             0|                     0|           0|                       0|         16|         16|               8|               8|                1|                1|                 2|                 2|                 2|                 2|               2|               2|                       0|                       0|                   6|                   7|                   1|                   2|                   0|                   0|                   0|                   0|                  25|                   7|                   3|                   4|                   0|                   0|                   0|                   0|                   0|                   0|                   0|                   0|                   1|                   2|                   6|                   7|                   0|                   0|                   0|                   0|                   1|                   4|                   6|                  28|e4|e5|Nf3|Nc6|Bb5...|\n",
            "|86e0b7f5-7b94-4ae...|      8|           4|       Carlsen,M|     Nf6|g8f6|         g8|       f6|    N|Black|r1bqkb1r/1ppp1ppp...|       0|            0|             0|                     0|           0|                       0|         16|         16|               8|               8|                1|                1|                 2|                 2|                 2|                 2|               2|               2|                       0|                       0|                   6|                   7|                   1|                   2|                   0|                   0|                   0|                   0|                  25|                   7|                   3|                   4|                   0|                   0|                   0|                   0|                   0|                   0|                   0|                   0|                   1|                   3|                   6|                   6|                   0|                   0|                   0|                   0|                   1|                   7|                   6|                  25|e4|e5|Nf3|Nc6|Bb5...|\n",
            "|86e0b7f5-7b94-4ae...|      9|           5|Nepomniachtchi,I|     O-O|e1g1|         e1|       g1|    K|White|r1bqkb1r/1ppp1ppp...|       0|            0|             0|                     0|           0|                       0|         16|         16|               8|               8|                1|                1|                 2|                 2|                 2|                 2|               2|               2|                       0|                       0|                   6|                   7|                   1|                   2|                   0|                   0|                   0|                   0|                  25|                   7|                   3|                   4|                   0|                   0|                   0|                   0|                   0|                   0|                   0|                   0|                   1|                   3|                   6|                   6|                   0|                   0|                   0|                   0|                   1|                   7|                   6|                  25|e4|e5|Nf3|Nc6|Bb5...|\n",
            "|86e0b7f5-7b94-4ae...|     10|           5|       Carlsen,M|     Be7|f8e7|         f8|       e7|    B|Black|r1bqk2r/1pppbppp/...|       0|            0|             0|                     0|           0|                       0|         16|         16|               8|               8|                1|                1|                 2|                 2|                 2|                 2|               2|               2|                       0|                       0|                   6|                   7|                   1|                   2|                   0|                   0|                   0|                   0|                  25|                   7|                   3|                   4|                   0|                   0|                   0|                   0|                   0|                   0|                   0|                   0|                   1|                   3|                   7|                   5|                   0|                   0|                   0|                   0|                   1|                   7|                   9|                  22|e4|e5|Nf3|Nc6|Bb5...|\n",
            "|86e0b7f5-7b94-4ae...|     11|           6|Nepomniachtchi,I|     Re1|f1e1|         f1|       e1|    R|White|r1bqk2r/1pppbppp/...|       0|            0|             0|                     0|           0|                       0|         16|         16|               8|               8|                1|                1|                 2|                 2|                 2|                 2|               2|               2|                       0|                       0|                   6|                   7|                   1|                   2|                   0|                   0|                   0|                   0|                  25|                   7|                   3|                   4|                   0|                   0|                   0|                   0|                   0|                   0|                   0|                   0|                   1|                   3|                   7|                   5|                   0|                   0|                   0|                   0|                   1|                   7|                   9|                  22|e4|e5|Nf3|Nc6|Bb5...|\n",
            "|86e0b7f5-7b94-4ae...|     12|           6|       Carlsen,M|      b5|b7b5|         b7|       b5|    P|Black|r1bqk2r/2ppbppp/p...|       0|            0|             0|                     0|           0|                       0|         16|         16|               8|               8|                1|                1|                 2|                 2|                 2|                 2|               2|               2|                       0|                       0|                   6|                   7|                   1|                   2|                   0|                   0|                   0|                   0|                  25|                   7|                   3|                   4|                   0|                   0|                   0|                   0|                   0|                   0|                   0|                   0|                   2|                   3|                   6|                   5|                   0|                   0|                   0|                   0|                   2|                   7|                   8|                  22|e4|e5|Nf3|Nc6|Bb5...|\n",
            "|86e0b7f5-7b94-4ae...|     13|           7|Nepomniachtchi,I|     Bb3|a4b3|         a4|       b3|    B|White|r1bqk2r/2ppbppp/p...|       0|            0|             0|                     0|           0|                       0|         16|         16|               8|               8|                1|                1|                 2|                 2|                 2|                 2|               2|               2|                       0|                       0|                   6|                   7|                   2|                   1|                   0|                   0|                   0|                   0|                  25|                   7|                   6|                   1|                   0|                   0|                   0|                   0|                   0|                   0|                   0|                   0|                   2|                   3|                   6|                   5|                   0|                   0|                   0|                   0|                   2|                   7|                   8|                  22|e4|e5|Nf3|Nc6|Bb5...|\n",
            "|86e0b7f5-7b94-4ae...|     14|           7|       Carlsen,M|     O-O|e8g8|         e8|       g8|    K|Black|r1bq1rk1/2ppbppp/...|       0|            0|             0|                     0|           0|                       0|         16|         16|               8|               8|                1|                1|                 2|                 2|                 2|                 2|               2|               2|                       0|                       0|                   6|                   7|                   2|                   1|                   0|                   0|                   0|                   0|                  25|                   7|                   6|                   1|                   0|                   0|                   0|                   0|                   0|                   0|                   0|                   0|                   2|                   3|                   6|                   5|                   0|                   0|                   0|                   0|                   2|                   7|                   8|                  22|e4|e5|Nf3|Nc6|Bb5...|\n",
            "|86e0b7f5-7b94-4ae...|     15|           8|Nepomniachtchi,I|      h3|h2h3|         h2|       h3|    P|White|r1bq1rk1/2ppbppp/...|       0|            0|             0|                     0|           0|                       0|         16|         16|               8|               8|                1|                1|                 2|                 2|                 2|                 2|               2|               2|                       0|                       0|                   6|                   6|                   3|                   1|                   0|                   0|                   0|                   0|                  25|                   6|                   7|                   1|                   0|                   0|                   0|                   0|                   0|                   0|                   0|                   0|                   2|                   3|                   6|                   5|                   0|                   0|                   0|                   0|                   2|                   7|                   8|                  22|e4|e5|Nf3|Nc6|Bb5...|\n",
            "|86e0b7f5-7b94-4ae...|     16|           8|       Carlsen,M|     Na5|c6a5|         c6|       a5|    N|Black|r1bq1rk1/2ppbppp/...|       0|            0|             0|                     0|           0|                       0|         16|         16|               8|               8|                1|                1|                 2|                 2|                 2|                 2|               2|               2|                       0|                       0|                   6|                   6|                   3|                   1|                   0|                   0|                   0|                   0|                  25|                   6|                   7|                   1|                   0|                   0|                   0|                   0|                   0|                   0|                   0|                   0|                   3|                   2|                   6|                   5|                   0|                   0|                   0|                   0|                   5|                   4|                   8|                  22|e4|e5|Nf3|Nc6|Bb5...|\n",
            "|86e0b7f5-7b94-4ae...|     17|           9|Nepomniachtchi,I|    Nxe5|f3e5|         f3|       e5|    N|White|r1bq1rk1/2ppbppp/...|       0|            0|             0|                     0|           0|                       0|         16|         15|               8|               7|                1|                1|                 2|                 2|                 2|                 2|               2|               2|                       1|                       0|                   6|                   6|                   2|                   1|                   1|                   0|                   0|                   0|                  25|                   6|                   4|                   1|                   3|                   0|                   0|                   0|                   0|                   0|                   0|                   0|                   2|                   2|                   6|                   5|                   0|                   0|                   0|                   0|                   4|                   4|                   8|                  22|e4|e5|Nf3|Nc6|Bb5...|\n",
            "|86e0b7f5-7b94-4ae...|     18|           9|       Carlsen,M|    Nxb3|a5b3|         a5|       b3|    N|Black|r1bq1rk1/2ppbppp/...|       0|            0|             0|                     0|           0|                       0|         15|         15|               8|               7|                1|                1|                 1|                 2|                 2|                 2|               2|               2|                       1|                       3|                   6|                   6|                   1|                   1|                   1|                   0|                   0|                   0|                  25|                   6|                   1|                   1|                   3|                   0|                   0|                   0|                   0|                   0|                   1|                   0|                   1|                   2|                   6|                   5|                   0|                   0|                   3|                   0|                   1|                   4|                   8|                  22|e4|e5|Nf3|Nc6|Bb5...|\n",
            "|86e0b7f5-7b94-4ae...|     19|          10|Nepomniachtchi,I|    axb3|a2b3|         a2|       b3|    P|White|r1bq1rk1/2ppbppp/...|       0|            0|             0|                     0|           0|                       0|         15|         14|               8|               7|                1|                1|                 1|                 2|                 2|                 1|               2|               2|                       4|                       3|                   6|                   5|                   2|                   1|                   1|                   0|                   0|                   0|                  25|                   5|                   2|                   1|                   3|                   0|                   0|                   0|                   0|                   0|                   0|                   0|                   1|                   2|                   6|                   5|                   0|                   0|                   0|                   0|                   1|                   4|                   8|                  22|e4|e5|Nf3|Nc6|Bb5...|\n",
            "|86e0b7f5-7b94-4ae...|     20|          10|       Carlsen,M|     Bb7|c8b7|         c8|       b7|    B|Black|r2q1rk1/1bppbppp/...|       0|            0|             0|                     0|           0|                       0|         15|         14|               8|               7|                1|                1|                 1|                 2|                 2|                 1|               2|               2|                       4|                       3|                   6|                   5|                   2|                   1|                   1|                   0|                   0|                   0|                  25|                   5|                   2|                   1|                   3|                   0|                   0|                   0|                   0|                   0|                   0|                   0|                   1|                   2|                   7|                   4|                   0|                   0|                   0|                   0|                   1|                   4|                  11|                  19|e4|e5|Nf3|Nc6|Bb5...|\n",
            "+--------------------+-------+------------+----------------+--------+----+-----------+---------+-----+-----+--------------------+--------+-------------+--------------+----------------------+------------+------------------------+-----------+-----------+----------------+----------------+-----------------+-----------------+------------------+------------------+------------------+------------------+----------------+----------------+------------------------+------------------------+--------------------+--------------------+--------------------+--------------------+--------------------+--------------------+--------------------+--------------------+--------------------+--------------------+--------------------+--------------------+--------------------+--------------------+--------------------+--------------------+--------------------+--------------------+--------------------+--------------------+--------------------+--------------------+--------------------+--------------------+--------------------+--------------------+--------------------+--------------------+--------------------+--------------------+--------------------+--------------------+--------------------+\n",
            "only showing top 20 rows\n",
            "\n"
          ]
        }
      ]
    },
    {
      "cell_type": "code",
      "source": [
        "eco_codes.show()"
      ],
      "metadata": {
        "colab": {
          "base_uri": "https://localhost:8080/"
        },
        "id": "gK4TJDMcympK",
        "outputId": "e79ad49c-9d7a-45f7-ca0b-87fc7597dd7b"
      },
      "execution_count": null,
      "outputs": [
        {
          "output_type": "stream",
          "name": "stdout",
          "text": [
            "+---+--------------------+--------------------+--------+---------+\n",
            "|eco|            eco_name|         eco_example|eco_type|eco_group|\n",
            "+---+--------------------+--------------------+--------+---------+\n",
            "|A00|    Uncommon Opening|  1 g4, a3, h3, etc.|       A|    Flank|\n",
            "|A01|Nimzovich-Larsen ...|                1 b3|       A|    Flank|\n",
            "|A02|      Bird's Opening|                1 f4|       A|    Flank|\n",
            "|A03|      Bird's Opening|             1 f4 d5|       A|    Flank|\n",
            "|A04|        Reti Opening|               1 Nf3|       A|    Flank|\n",
            "|A05|        Reti Opening|           1 Nf3 Nf6|       A|    Flank|\n",
            "|A06|        Reti Opening|            1 Nf3 d5|       A|    Flank|\n",
            "|A07|King's Indian Attack|       1 Nf3 d5 2 g3|       A|    Flank|\n",
            "|A08|King's Indian Attack|1 Nf3 d5 2 g3 c5 ...|       A|    Flank|\n",
            "|A09|        Reti Opening|       1 Nf3 d5 2 c4|       A|    Flank|\n",
            "|A10|             English|                1 c4|       A|    Flank|\n",
            "|A11|English, Caro-Kan...|             1 c4 c6|       A|    Flank|\n",
            "|A12|     English with b3|1 c4 c6 2 Nf3 d5 ...|       A|    Flank|\n",
            "|A13|             English|             1 c4 e6|       A|    Flank|\n",
            "|A14|             English|1 c4 e6 2 Nf3 d5 ...|       A|    Flank|\n",
            "|A15|             English|            1 c4 Nf6|       A|    Flank|\n",
            "|A16|             English|      1 c4 Nf6 2 Nc3|       A|    Flank|\n",
            "|A17|             English|   1 c4 Nf6 2 Nc3 e6|       A|    Flank|\n",
            "|A18|English, Mikenas-...|1 c4 Nf6 2 Nc3 e6...|       A|    Flank|\n",
            "|A19|English, Mikenas-...|1 c4 Nf6 2 Nc3 e6...|       A|    Flank|\n",
            "+---+--------------------+--------------------+--------+---------+\n",
            "only showing top 20 rows\n",
            "\n"
          ]
        }
      ]
    },
    {
      "cell_type": "markdown",
      "source": [
        "<b>Grouping Column Of Winner and Tournament_name <b>\n",
        "\n",
        " \n",
        "\n"
      ],
      "metadata": {
        "id": "hXls79AB-6KB"
      }
    },
    {
      "cell_type": "code",
      "execution_count": null,
      "metadata": {
        "colab": {
          "base_uri": "https://localhost:8080/"
        },
        "id": "dwaMnQ4_QT9k",
        "outputId": "8f12b0a5-f88a-433f-8616-9196e39b329a"
      },
      "outputs": [
        {
          "output_type": "stream",
          "name": "stdout",
          "text": [
            "+------------------+---------------+-----+\n",
            "|winner            |tournament_name|count|\n",
            "+------------------+---------------+-----+\n",
            "|Bareev,E          |FideChamp2002  |8    |\n",
            "|Dreev,A           |FideChamp2002  |3    |\n",
            "|Andersson, Ulf    |FideChamp1999  |2    |\n",
            "|Svidler, Peter    |FideChamp1998  |3    |\n",
            "|Ehlvest,J         |FideChamp2002  |4    |\n",
            "|draw              |WorldChamp1981 |9    |\n",
            "|Delchev,A         |FideChamp2004  |1    |\n",
            "|Ponomariov,R      |FideChamp2002  |12   |\n",
            "|Zvjaginsev,V      |FideChamp2002  |2    |\n",
            "|Steinitz, William |WorldChamp1890 |6    |\n",
            "|Kudrin,S          |FideChamp2004  |1    |\n",
            "|Istratescu, Andrei|FideChamp1998  |2    |\n",
            "|Sakaev,K          |FideChamp2002  |4    |\n",
            "|Ciuksyte,D        |FideChamp2002  |1    |\n",
            "|Lautier,J         |FideChamp2002  |7    |\n",
            "|Psakhis, Lev      |FideChamp1999  |2    |\n",
            "|draw              |WorldChamp2010 |7    |\n",
            "|Dreev, Alexey     |FideChamp1999  |4    |\n",
            "|Kramnik,V         |WorldChamp2006 |5    |\n",
            "|Lautier, Joel     |FideChamp1999  |3    |\n",
            "+------------------+---------------+-----+\n",
            "only showing top 20 rows\n",
            "\n"
          ]
        }
      ],
      "source": [
        "history_game.groupBy(\"winner\",\"tournament_name\").count().show(truncate=False)\n",
        "\n",
        "#history_game.groupBy(\"winner\").sum(\"tournament_name\").show(truncate=False)"
      ]
    },
    {
      "cell_type": "markdown",
      "source": [
        "<b> Checking Null Values<b>"
      ],
      "metadata": {
        "id": "QROFz3oh_Sow"
      }
    },
    {
      "cell_type": "code",
      "source": [
        "from pyspark.sql.functions import col,isnan, when, count\n",
        "history_game.select([count(when(isnan(c) | col(c).isNull(), c)).alias(c) for c in history_game.columns] ).show()"
      ],
      "metadata": {
        "colab": {
          "base_uri": "https://localhost:8080/"
        },
        "id": "znH-F26x6W1W",
        "outputId": "8ae75652-16c5-4538-95ec-c47c6cc09f57"
      },
      "execution_count": null,
      "outputs": [
        {
          "output_type": "stream",
          "name": "stdout",
          "text": [
            "+-------+----------+-----+----+-----------+-----+-----+-----+------+---------+---------+-----------+-----------+------+----------+-----+---------+---------------------+---+------------+---------------+\n",
            "|game_id|game_order|event|site|date_played|round|white|black|result|white_elo|black_elo|white_title|black_title|winner|winner_elo|loser|loser_elo|winner_loser_elo_diff|eco|date_created|tournament_name|\n",
            "+-------+----------+-----+----+-----------+-----+-----+-----+------+---------+---------+-----------+-----------+------+----------+-----+---------+---------------------+---+------------+---------------+\n",
            "|      0|         0|    0|   0|          0|    0|    0|    0|     0|      587|      588|       2885|       2885|     0|      1833|    0|     1836|                    1|  1|           0|              0|\n",
            "+-------+----------+-----+----+-----------+-----+-----+-----+------+---------+---------+-----------+-----------+------+----------+-----+---------+---------------------+---+------------+---------------+\n",
            "\n"
          ]
        }
      ]
    },
    {
      "cell_type": "markdown",
      "source": [
        "<b> List of Winners of Each World champions Trophy<b>"
      ],
      "metadata": {
        "id": "GSONSvnbVslX"
      }
    },
    {
      "cell_type": "code",
      "source": [
        "import pyspark.sql.functions as F\n",
        "from pyspark.sql.window import Window\n",
        "\n",
        "df = history_game.where((history_game.tournament_name.contains('WorldChamp')) & ~history_game.winner.isin(['draw']))\n",
        "col_1 = ['winner','tournament_name']"
      ],
      "metadata": {
        "id": "wzuKYNfLUQM1"
      },
      "execution_count": 114,
      "outputs": []
    },
    {
      "cell_type": "code",
      "source": [
        "df = df.select(col_1).groupBy(col_1).count()\n",
        "\n",
        "dfs = Window.partitionBy(\"tournament_name\").orderBy(F.col('count').desc())"
      ],
      "metadata": {
        "id": "sz_MALlwVT3y"
      },
      "execution_count": 115,
      "outputs": []
    },
    {
      "cell_type": "code",
      "source": [
        "df = df.withColumn('countrowno',F.row_number().over(dfs)).where(F.col('countrowno') == 1)\n",
        "col_2= ['count,countrowno']\n",
        "df= df.orderBy(F.col('tournament_name')).drop(*col_2)\n",
        "df = df.select(col_1)\n",
        "df.show()"
      ],
      "metadata": {
        "colab": {
          "base_uri": "https://localhost:8080/"
        },
        "id": "0J7aqq2TVZlI",
        "outputId": "49b591d9-e005-49bc-ebda-f6f9c959d903"
      },
      "execution_count": 116,
      "outputs": [
        {
          "output_type": "stream",
          "name": "stdout",
          "text": [
            "+--------------------+---------------+\n",
            "|              winner|tournament_name|\n",
            "+--------------------+---------------+\n",
            "|   Steinitz, William| WorldChamp1886|\n",
            "|   Steinitz, William| WorldChamp1889|\n",
            "|   Steinitz, William| WorldChamp1890|\n",
            "|   Steinitz, William| WorldChamp1892|\n",
            "|     Lasker, Emanuel| WorldChamp1894|\n",
            "|     Lasker, Emanuel| WorldChamp1896|\n",
            "|     Lasker, Emanuel| WorldChamp1907|\n",
            "|     Lasker, Emanuel| WorldChamp1908|\n",
            "|     Lasker, Emanuel| WorldChamp1909|\n",
            "|    Schlechter, Carl|WorldChamp1910a|\n",
            "|     Lasker, Emanuel|WorldChamp1910b|\n",
            "|Capablanca, Jose ...| WorldChamp1921|\n",
            "| Alekhine, Alexander| WorldChamp1927|\n",
            "| Alekhine, Alexander| WorldChamp1929|\n",
            "| Alekhine, Alexander| WorldChamp1934|\n",
            "|           Euwe, Max| WorldChamp1935|\n",
            "| Alekhine, Alexander| WorldChamp1937|\n",
            "|  Botvinnik, Mikhail| WorldChamp1948|\n",
            "|  Botvinnik, Mikhail| WorldChamp1951|\n",
            "|  Botvinnik, Mikhail| WorldChamp1954|\n",
            "+--------------------+---------------+\n",
            "only showing top 20 rows\n",
            "\n"
          ]
        }
      ]
    },
    {
      "cell_type": "markdown",
      "source": [
        "<B> Filter out table history_game based on winner_loser_clo_diff if the column value are greater than 0 <b>"
      ],
      "metadata": {
        "id": "qNTksfFk_ait"
      }
    },
    {
      "cell_type": "code",
      "source": [
        "df=history_game.filter(history_game.winner_loser_elo_diff > 0)\n",
        "df.select(\"winner\",\"tournament_name\").show()"
      ],
      "metadata": {
        "colab": {
          "base_uri": "https://localhost:8080/"
        },
        "id": "2jDsVzJy4da2",
        "outputId": "6924da9c-852d-4ce0-a0d2-b1cb437550c8"
      },
      "execution_count": null,
      "outputs": [
        {
          "output_type": "stream",
          "name": "stdout",
          "text": [
            "+------------------+---------------+\n",
            "|            winner|tournament_name|\n",
            "+------------------+---------------+\n",
            "|         Carlsen,M| WorldChamp2021|\n",
            "|         Carlsen,M| WorldChamp2021|\n",
            "|         Carlsen,M| WorldChamp2021|\n",
            "|         Carlsen,M| WorldChamp2021|\n",
            "|   Carlsen, Magnus| WorldChamp2016|\n",
            "|   Carlsen, Magnus| WorldChamp2016|\n",
            "|   Carlsen, Magnus| WorldChamp2016|\n",
            "|   Carlsen, Magnus| WorldChamp2014|\n",
            "|   Carlsen, Magnus| WorldChamp2014|\n",
            "|   Carlsen, Magnus| WorldChamp2014|\n",
            "|   Carlsen, Magnus| WorldChamp2013|\n",
            "|   Carlsen, Magnus| WorldChamp2013|\n",
            "|   Carlsen, Magnus| WorldChamp2013|\n",
            "|           Anand,V| WorldChamp2012|\n",
            "|Anand, Viswanathan| WorldChamp2012|\n",
            "|         Topalov,V| WorldChamp2010|\n",
            "|         Topalov,V| WorldChamp2010|\n",
            "|           Anand,V| WorldChamp2008|\n",
            "|           Anand,V| WorldChamp2008|\n",
            "|           Anand,V| WorldChamp2008|\n",
            "+------------------+---------------+\n",
            "only showing top 20 rows\n",
            "\n"
          ]
        }
      ]
    },
    {
      "cell_type": "markdown",
      "source": [
        "<b> Grouping winner column and counting according descde"
      ],
      "metadata": {
        "id": "BIlAQh_m_xGc"
      }
    },
    {
      "cell_type": "code",
      "execution_count": null,
      "metadata": {
        "id": "mAVb7rCAOJco",
        "colab": {
          "base_uri": "https://localhost:8080/"
        },
        "outputId": "5f98b4cc-0a87-4949-a425-7a349c8047c4"
      },
      "outputs": [
        {
          "output_type": "stream",
          "name": "stdout",
          "text": [
            "+--------------------+-----+\n",
            "|              winner|count|\n",
            "+--------------------+-----+\n",
            "|                draw| 1515|\n",
            "|     Lasker, Emanuel|   52|\n",
            "|     Karpov, Anatoly|   47|\n",
            "|  Botvinnik, Mikhail|   46|\n",
            "|   Steinitz, William|   43|\n",
            "| Alekhine, Alexander|   43|\n",
            "|           Topalov,V|   32|\n",
            "|      Kasparov, Gary|   31|\n",
            "|             Anand,V|   30|\n",
            "|    Smyslov, Vassily|   24|\n",
            "|            Adams,Mi|   20|\n",
            "|      Kasimdzhanov,R|   19|\n",
            "|          Grischuk,A|   17|\n",
            "|           Svidler,P|   16|\n",
            "|      Adams, Michael|   16|\n",
            "|            Bareev,E|   15|\n",
            "|            Shirov,A|   15|\n",
            "|             Dreev,A|   15|\n",
            "|   Chigorin, Mikhail|   14|\n",
            "|Khalifman, Alexander|   14|\n",
            "+--------------------+-----+\n",
            "only showing top 20 rows\n",
            "\n"
          ]
        }
      ],
      "source": [
        "history_game.groupBy('winner').count().orderBy(col(\"count\").desc()).show()"
      ]
    },
    {
      "cell_type": "code",
      "source": [
        "winner=history_game.filter(col(\"winner\") != \"draw\").show()\n"
      ],
      "metadata": {
        "colab": {
          "base_uri": "https://localhost:8080/"
        },
        "id": "BBask560ME7H",
        "outputId": "89b1d58c-1061-4d94-ec5b-fa2bc840f86e"
      },
      "execution_count": null,
      "outputs": [
        {
          "output_type": "stream",
          "name": "stdout",
          "text": [
            "+--------------------+----------+------------------+------------+-----------+-----+------------------+------------------+------+---------+---------+-----------+-----------+------------------+----------+------------------+---------+---------------------+---+--------------------+---------------+\n",
            "|             game_id|game_order|             event|        site|date_played|round|             white|             black|result|white_elo|black_elo|white_title|black_title|            winner|winner_elo|             loser|loser_elo|winner_loser_elo_diff|eco|        date_created|tournament_name|\n",
            "+--------------------+----------+------------------+------------+-----------+-----+------------------+------------------+------+---------+---------+-----------+-----------+------------------+----------+------------------+---------+---------------------+---+--------------------+---------------+\n",
            "|58e83255-93bb-4d5...|         6|          WCh 2021|   Dubai UAE| 2021.12.03|  6.0|         Carlsen,M|  Nepomniachtchi,I|   1-0|     2855|     2782|       null|       null|         Carlsen,M|      2855|  Nepomniachtchi,I|     2782|                   73|D02|2022-07-22T22:33:...| WorldChamp2021|\n",
            "|8a4ccd8c-d437-429...|         8|          WCh 2021|   Dubai UAE| 2021.12.05|  8.0|         Carlsen,M|  Nepomniachtchi,I|   1-0|     2855|     2782|       null|       null|         Carlsen,M|      2855|  Nepomniachtchi,I|     2782|                   73|C43|2022-07-22T22:33:...| WorldChamp2021|\n",
            "|55a122db-27d1-495...|         9|          WCh 2021|   Dubai UAE| 2021.12.07|  9.0|  Nepomniachtchi,I|         Carlsen,M|   0-1|     2782|     2855|       null|       null|         Carlsen,M|      2855|  Nepomniachtchi,I|     2782|                   73|A13|2022-07-22T22:33:...| WorldChamp2021|\n",
            "|c512a953-a341-47c...|        11|          WCh 2021|   Dubai UAE| 2021.12.10| 11.0|  Nepomniachtchi,I|         Carlsen,M|   0-1|     2782|     2855|       null|       null|         Carlsen,M|      2855|  Nepomniachtchi,I|     2782|                   73|C50|2022-07-22T22:33:...| WorldChamp2021|\n",
            "|8a49457a-7c11-436...|         8|          WCh 2016|New York USA| 2016.11.21|  8.0|   Carlsen, Magnus|  Karjakin, Sergey|   0-1|     2853|     2772|         GM|         GM|  Karjakin, Sergey|      2772|   Carlsen, Magnus|     2853|                  -81|D05|2022-07-22T22:33:...| WorldChamp2016|\n",
            "|dea461a0-46b1-43e...|        10|          WCh 2016|New York USA| 2016.11.24| 10.0|   Carlsen, Magnus|  Karjakin, Sergey|   1-0|     2853|     2772|         GM|         GM|   Carlsen, Magnus|      2853|  Karjakin, Sergey|     2772|                   81|C65|2022-07-22T22:33:...| WorldChamp2016|\n",
            "|96cea9d3-9ded-432...|        15| WCh Rapid TB 2016|New York USA| 2016.11.30|  3.0|  Karjakin, Sergey|   Carlsen, Magnus|   0-1|     2772|     2853|         GM|         GM|   Carlsen, Magnus|      2853|  Karjakin, Sergey|     2772|                   81|C84|2022-07-22T22:33:...| WorldChamp2016|\n",
            "|69954db6-8a4e-43d...|        16| WCh Rapid TB 2016|New York USA| 2016.11.30|  4.0|   Carlsen, Magnus|  Karjakin, Sergey|   1-0|     2853|     2772|         GM|         GM|   Carlsen, Magnus|      2853|  Karjakin, Sergey|     2772|                   81|B54|2022-07-22T22:33:...| WorldChamp2016|\n",
            "|c6da46fc-4ed5-4e6...|         2|          WCh 2014|   Sochi RUS| 2014.11.09|  2.0|   Carlsen, Magnus|Anand, Viswanathan|   1-0|     2863|     2792|         GM|         GM|   Carlsen, Magnus|      2863|Anand, Viswanathan|     2792|                   71|C65|2022-07-22T22:33:...| WorldChamp2014|\n",
            "|e8e1e55d-e0d2-467...|         3|          WCh 2014|   Sochi RUS| 2014.11.11|  3.0|Anand, Viswanathan|   Carlsen, Magnus|   1-0|     2792|     2863|         GM|         GM|Anand, Viswanathan|      2792|   Carlsen, Magnus|     2863|                  -71|D37|2022-07-22T22:33:...| WorldChamp2014|\n",
            "|8abc1978-ec05-4b0...|         6|          WCh 2014|   Sochi RUS| 2014.11.15|  6.0|   Carlsen, Magnus|Anand, Viswanathan|   1-0|     2863|     2792|         GM|         GM|   Carlsen, Magnus|      2863|Anand, Viswanathan|     2792|                   71|B41|2022-07-22T22:33:...| WorldChamp2014|\n",
            "|456d0e77-8b7a-447...|        11|          WCh 2014|   Sochi RUS| 2014.11.23| 11.0|   Carlsen, Magnus|Anand, Viswanathan|   1-0|     2863|     2792|         GM|         GM|   Carlsen, Magnus|      2863|Anand, Viswanathan|     2792|                   71|C67|2022-07-22T22:33:...| WorldChamp2014|\n",
            "|8ddb538f-20e7-423...|         5|          WCh 2013| Chennai IND| 2013.11.15|  5.0|   Carlsen, Magnus|Anand, Viswanathan|   1-0|     2870|     2775|         GM|         GM|   Carlsen, Magnus|      2870|Anand, Viswanathan|     2775|                   95|D31|2022-07-22T22:33:...| WorldChamp2013|\n",
            "|e92208c7-2a0d-4be...|         6|          WCh 2013| Chennai IND| 2013.11.16|  6.0|Anand, Viswanathan|   Carlsen, Magnus|   0-1|     2775|     2870|         GM|         GM|   Carlsen, Magnus|      2870|Anand, Viswanathan|     2775|                   95|C65|2022-07-22T22:33:...| WorldChamp2013|\n",
            "|7a60a3e9-2e4d-48a...|         9|          WCh 2013| Chennai IND| 2013.11.21|  9.0|Anand, Viswanathan|   Carlsen, Magnus|   0-1|     2775|     2870|         GM|         GM|   Carlsen, Magnus|      2870|Anand, Viswanathan|     2775|                   95|E25|2022-07-22T22:33:...| WorldChamp2013|\n",
            "|85f912a4-3e0a-4ab...|         7|          WCh 2012|  Moscow RUS| 2012.05.20|  7.0|         Gelfand,B|           Anand,V|   1-0|     2727|     2791|       null|       null|         Gelfand,B|      2727|           Anand,V|     2791|                  -64|D45|2022-07-22T22:33:...| WorldChamp2012|\n",
            "|646031d8-05e7-40b...|         8|          WCh 2012|  Moscow RUS| 2012.05.21|  8.0|           Anand,V|         Gelfand,B|   1-0|     2791|     2727|       null|       null|           Anand,V|      2791|         Gelfand,B|     2727|                   64|E60|2022-07-22T22:33:...| WorldChamp2012|\n",
            "|a9e346b5-0066-40c...|        14|WCh Rapid Tiebreak|  Moscow RUS| 2012.05.30|  2.0|Anand, Viswanathan|    Gelfand, Boris|   1-0|     2791|     2727|         GM|         GM|Anand, Viswanathan|      2791|    Gelfand, Boris|     2727|                   64|B30|2022-07-22T22:33:...| WorldChamp2012|\n",
            "|427df540-ad7e-4c7...|         1|               WCh|   Sofia BUL| 2010.04.24|  1.0|         Topalov,V|           Anand,V|   1-0|     2805|     2787|       null|       null|         Topalov,V|      2805|           Anand,V|     2787|                   18|D86|2022-07-22T22:33:...| WorldChamp2010|\n",
            "|600bf35b-8d76-4b2...|         2|               WCh|   Sofia BUL| 2010.04.25|  2.0|           Anand,V|         Topalov,V|   1-0|     2787|     2805|       null|       null|           Anand,V|      2787|         Topalov,V|     2805|                  -18|E04|2022-07-22T22:33:...| WorldChamp2010|\n",
            "+--------------------+----------+------------------+------------+-----------+-----+------------------+------------------+------+---------+---------+-----------+-----------+------------------+----------+------------------+---------+---------------------+---+--------------------+---------------+\n",
            "only showing top 20 rows\n",
            "\n"
          ]
        }
      ]
    },
    {
      "cell_type": "markdown",
      "source": [
        "<b> Longest and shortest game ever played in a world championship in terms of move. <b>"
      ],
      "metadata": {
        "id": "kfGuOBBmW3Ua"
      }
    },
    {
      "cell_type": "code",
      "source": [
        "game_1= [\"game_id\",\"move_no_pair\"]\n",
        "game_2 = [\"game_id\",\"tournament_name\",\"event\"]\n",
        " \n",
        "df_game_1 = history_moves.select(game_1)\n",
        "df_game_2 = history_game.select(game_2)\n",
        "\n",
        "pal = df_game_1.groupBy(\"game_id\").count()\n",
        "pal = pal.sort(col(\"count\").desc())\n",
        "pal.show()"
      ],
      "metadata": {
        "colab": {
          "base_uri": "https://localhost:8080/"
        },
        "id": "_Fy_z2EbWKKX",
        "outputId": "cc359e3d-be44-4317-91e3-50b74e59c532"
      },
      "execution_count": 119,
      "outputs": [
        {
          "output_type": "stream",
          "name": "stdout",
          "text": [
            "+--------------------+-----+\n",
            "|             game_id|count|\n",
            "+--------------------+-----+\n",
            "|4424a0a4-3732-407...|  291|\n",
            "|58e83255-93bb-4d5...|  271|\n",
            "|88f34084-e4df-490...|  258|\n",
            "|bf66c982-f6c5-4e7...|  247|\n",
            "|c2ad1d49-8a47-428...|  244|\n",
            "|ed4f54c2-4e7f-443...|  243|\n",
            "|c027c41f-a2e6-4a5...|  242|\n",
            "|1f094f29-ffeb-434...|  238|\n",
            "|180c123b-a5e0-41f...|  236|\n",
            "|99d39a93-427e-4d1...|  229|\n",
            "|06d69454-6598-4ce...|  220|\n",
            "|dda621f1-a9eb-425...|  215|\n",
            "|367b70ea-1d2a-4d5...|  215|\n",
            "|d3863768-6f44-44f...|  214|\n",
            "|cd2e8b22-2a56-4b5...|  211|\n",
            "|c7c88ff1-f177-4e9...|  210|\n",
            "|6ca8882f-bd61-45a...|  203|\n",
            "|5736e77c-0cc4-47e...|  203|\n",
            "|e31b2ec4-098b-4e3...|  201|\n",
            "|16c54de2-794d-4e9...|  201|\n",
            "+--------------------+-----+\n",
            "only showing top 20 rows\n",
            "\n"
          ]
        }
      ]
    },
    {
      "cell_type": "markdown",
      "source": [
        " <b> Filter out color <b>"
      ],
      "metadata": {
        "id": "aM-oAvBjJDje"
      }
    },
    {
      "cell_type": "code",
      "source": [
        "history_moves.filter(history_moves.color== \"White\").show(truncate=False)"
      ],
      "metadata": {
        "id": "kW1t05F4-0lP",
        "colab": {
          "base_uri": "https://localhost:8080/"
        },
        "outputId": "7f319b55-8a6e-48d3-c10e-bdf61eeed07d"
      },
      "execution_count": null,
      "outputs": [
        {
          "output_type": "stream",
          "name": "stdout",
          "text": [
            "+------------------------------------+-------+------------+----------------+--------+----+-----------+---------+-----+-----+----------------------------------------------------------+--------+-------------+--------------+----------------------+------------+------------------------+-----------+-----------+----------------+----------------+-----------------+-----------------+------------------+------------------+------------------+------------------+----------------+----------------+------------------------+------------------------+--------------------+--------------------+--------------------+--------------------+--------------------+--------------------+--------------------+--------------------+--------------------+--------------------+--------------------+--------------------+--------------------+--------------------+--------------------+--------------------+--------------------+--------------------+--------------------+--------------------+--------------------+--------------------+--------------------+--------------------+--------------------+--------------------+--------------------+--------------------+--------------------+--------------------+--------------------+--------------------+-------------------------------------------------------------------------------------------------------------------------------------------------------------+\n",
            "|game_id                             |move_no|move_no_pair|player          |notation|move|from_square|to_square|piece|color|fen                                                       |is_check|is_check_mate|is_fifty_moves|is_fivefold_repetition|is_game_over|is_insufficient_material|white_count|black_count|white_pawn_count|black_pawn_count|white_queen_count|black_queen_count|white_bishop_count|black_bishop_count|white_knight_count|black_knight_count|white_rook_count|black_rook_count|captured_score_for_white|captured_score_for_black|fen_row1_white_count|fen_row2_white_count|fen_row3_white_count|fen_row4_white_count|fen_row5_white_count|fen_row6_white_count|fen_row7_white_count|fen_row8_white_count|fen_row1_white_value|fen_row2_white_value|fen_row3_white_value|fen_row4_white_value|fen_row5_white_value|fen_row6_white_value|fen_row7_white_value|fen_row8_white_value|fen_row1_black_count|fen_row2_black_count|fen_row3_black_count|fen_row4_black_count|fen_row5_black_count|fen_row6_black_count|fen_row7_black_count|fen_row8_black_count|fen_row1_black_value|fen_row2_black_value|fen_row3_black_value|fen_row4_black_value|fen_row5_black_value|fen_row6_black_value|fen_row7_black_value|fen_row8_black_value|move_sequence                                                                                                                                                |\n",
            "+------------------------------------+-------+------------+----------------+--------+----+-----------+---------+-----+-----+----------------------------------------------------------+--------+-------------+--------------+----------------------+------------+------------------------+-----------+-----------+----------------+----------------+-----------------+-----------------+------------------+------------------+------------------+------------------+----------------+----------------+------------------------+------------------------+--------------------+--------------------+--------------------+--------------------+--------------------+--------------------+--------------------+--------------------+--------------------+--------------------+--------------------+--------------------+--------------------+--------------------+--------------------+--------------------+--------------------+--------------------+--------------------+--------------------+--------------------+--------------------+--------------------+--------------------+--------------------+--------------------+--------------------+--------------------+--------------------+--------------------+--------------------+--------------------+-------------------------------------------------------------------------------------------------------------------------------------------------------------+\n",
            "|86e0b7f5-7b94-4ae3-97c8-317371622795|1      |1           |Nepomniachtchi,I|e4      |e2e4|e2         |e4       |P    |White|rnbqkbnr/pppppppp/8/8/4P3/8/PPPP1PPP/RNBQKBNR             |0       |0            |0             |0                     |0           |0                       |16         |16         |8               |8               |1                |1                |2                 |2                 |2                 |2                 |2               |2               |0                       |0                       |8                   |7                   |0                   |1                   |0                   |0                   |0                   |0                   |31                  |7                   |0                   |1                   |0                   |0                   |0                   |0                   |0                   |0                   |0                   |0                   |0                   |0                   |8                   |8                   |0                   |0                   |0                   |0                   |0                   |0                   |8                   |31                  |e4                                                                                                                                                           |\n",
            "|86e0b7f5-7b94-4ae3-97c8-317371622795|3      |2           |Nepomniachtchi,I|Nf3     |g1f3|g1         |f3       |N    |White|rnbqkbnr/pppp1ppp/8/4p3/4P3/5N2/PPPP1PPP/RNBQKB1R         |0       |0            |0             |0                     |0           |0                       |16         |16         |8               |8               |1                |1                |2                 |2                 |2                 |2                 |2               |2               |0                       |0                       |7                   |7                   |1                   |1                   |0                   |0                   |0                   |0                   |28                  |7                   |3                   |1                   |0                   |0                   |0                   |0                   |0                   |0                   |0                   |0                   |1                   |0                   |7                   |8                   |0                   |0                   |0                   |0                   |1                   |0                   |7                   |31                  |e4|e5|Nf3                                                                                                                                                    |\n",
            "|86e0b7f5-7b94-4ae3-97c8-317371622795|5      |3           |Nepomniachtchi,I|Bb5     |f1b5|f1         |b5       |B    |White|r1bqkbnr/pppp1ppp/2n5/1B2p3/4P3/5N2/PPPP1PPP/RNBQK2R      |0       |0            |0             |0                     |0           |0                       |16         |16         |8               |8               |1                |1                |2                 |2                 |2                 |2                 |2               |2               |0                       |0                       |6                   |7                   |1                   |1                   |1                   |0                   |0                   |0                   |25                  |7                   |3                   |1                   |3                   |0                   |0                   |0                   |0                   |0                   |0                   |0                   |1                   |1                   |7                   |7                   |0                   |0                   |0                   |0                   |1                   |3                   |7                   |28                  |e4|e5|Nf3|Nc6|Bb5                                                                                                                                            |\n",
            "|86e0b7f5-7b94-4ae3-97c8-317371622795|7      |4           |Nepomniachtchi,I|Ba4     |b5a4|b5         |a4       |B    |White|r1bqkbnr/1ppp1ppp/p1n5/4p3/B3P3/5N2/PPPP1PPP/RNBQK2R      |0       |0            |0             |0                     |0           |0                       |16         |16         |8               |8               |1                |1                |2                 |2                 |2                 |2                 |2               |2               |0                       |0                       |6                   |7                   |1                   |2                   |0                   |0                   |0                   |0                   |25                  |7                   |3                   |4                   |0                   |0                   |0                   |0                   |0                   |0                   |0                   |0                   |1                   |2                   |6                   |7                   |0                   |0                   |0                   |0                   |1                   |4                   |6                   |28                  |e4|e5|Nf3|Nc6|Bb5|a6|Ba4                                                                                                                                     |\n",
            "|86e0b7f5-7b94-4ae3-97c8-317371622795|9      |5           |Nepomniachtchi,I|O-O     |e1g1|e1         |g1       |K    |White|r1bqkb1r/1ppp1ppp/p1n2n2/4p3/B3P3/5N2/PPPP1PPP/RNBQ1RK1   |0       |0            |0             |0                     |0           |0                       |16         |16         |8               |8               |1                |1                |2                 |2                 |2                 |2                 |2               |2               |0                       |0                       |6                   |7                   |1                   |2                   |0                   |0                   |0                   |0                   |25                  |7                   |3                   |4                   |0                   |0                   |0                   |0                   |0                   |0                   |0                   |0                   |1                   |3                   |6                   |6                   |0                   |0                   |0                   |0                   |1                   |7                   |6                   |25                  |e4|e5|Nf3|Nc6|Bb5|a6|Ba4|Nf6|O-O                                                                                                                             |\n",
            "|86e0b7f5-7b94-4ae3-97c8-317371622795|11     |6           |Nepomniachtchi,I|Re1     |f1e1|f1         |e1       |R    |White|r1bqk2r/1pppbppp/p1n2n2/4p3/B3P3/5N2/PPPP1PPP/RNBQR1K1    |0       |0            |0             |0                     |0           |0                       |16         |16         |8               |8               |1                |1                |2                 |2                 |2                 |2                 |2               |2               |0                       |0                       |6                   |7                   |1                   |2                   |0                   |0                   |0                   |0                   |25                  |7                   |3                   |4                   |0                   |0                   |0                   |0                   |0                   |0                   |0                   |0                   |1                   |3                   |7                   |5                   |0                   |0                   |0                   |0                   |1                   |7                   |9                   |22                  |e4|e5|Nf3|Nc6|Bb5|a6|Ba4|Nf6|O-O|Be7|Re1                                                                                                                     |\n",
            "|86e0b7f5-7b94-4ae3-97c8-317371622795|13     |7           |Nepomniachtchi,I|Bb3     |a4b3|a4         |b3       |B    |White|r1bqk2r/2ppbppp/p1n2n2/1p2p3/4P3/1B3N2/PPPP1PPP/RNBQR1K1  |0       |0            |0             |0                     |0           |0                       |16         |16         |8               |8               |1                |1                |2                 |2                 |2                 |2                 |2               |2               |0                       |0                       |6                   |7                   |2                   |1                   |0                   |0                   |0                   |0                   |25                  |7                   |6                   |1                   |0                   |0                   |0                   |0                   |0                   |0                   |0                   |0                   |2                   |3                   |6                   |5                   |0                   |0                   |0                   |0                   |2                   |7                   |8                   |22                  |e4|e5|Nf3|Nc6|Bb5|a6|Ba4|Nf6|O-O|Be7|Re1|b5|Bb3                                                                                                              |\n",
            "|86e0b7f5-7b94-4ae3-97c8-317371622795|15     |8           |Nepomniachtchi,I|h3      |h2h3|h2         |h3       |P    |White|r1bq1rk1/2ppbppp/p1n2n2/1p2p3/4P3/1B3N1P/PPPP1PP1/RNBQR1K1|0       |0            |0             |0                     |0           |0                       |16         |16         |8               |8               |1                |1                |2                 |2                 |2                 |2                 |2               |2               |0                       |0                       |6                   |6                   |3                   |1                   |0                   |0                   |0                   |0                   |25                  |6                   |7                   |1                   |0                   |0                   |0                   |0                   |0                   |0                   |0                   |0                   |2                   |3                   |6                   |5                   |0                   |0                   |0                   |0                   |2                   |7                   |8                   |22                  |e4|e5|Nf3|Nc6|Bb5|a6|Ba4|Nf6|O-O|Be7|Re1|b5|Bb3|O-O|h3                                                                                                       |\n",
            "|86e0b7f5-7b94-4ae3-97c8-317371622795|17     |9           |Nepomniachtchi,I|Nxe5    |f3e5|f3         |e5       |N    |White|r1bq1rk1/2ppbppp/p4n2/np2N3/4P3/1B5P/PPPP1PP1/RNBQR1K1    |0       |0            |0             |0                     |0           |0                       |16         |15         |8               |7               |1                |1                |2                 |2                 |2                 |2                 |2               |2               |1                       |0                       |6                   |6                   |2                   |1                   |1                   |0                   |0                   |0                   |25                  |6                   |4                   |1                   |3                   |0                   |0                   |0                   |0                   |0                   |0                   |0                   |2                   |2                   |6                   |5                   |0                   |0                   |0                   |0                   |4                   |4                   |8                   |22                  |e4|e5|Nf3|Nc6|Bb5|a6|Ba4|Nf6|O-O|Be7|Re1|b5|Bb3|O-O|h3|Na5|Nxe5                                                                                              |\n",
            "|86e0b7f5-7b94-4ae3-97c8-317371622795|19     |10          |Nepomniachtchi,I|axb3    |a2b3|a2         |b3       |P    |White|r1bq1rk1/2ppbppp/p4n2/1p2N3/4P3/1P5P/1PPP1PP1/RNBQR1K1    |0       |0            |0             |0                     |0           |0                       |15         |14         |8               |7               |1                |1                |1                 |2                 |2                 |1                 |2               |2               |4                       |3                       |6                   |5                   |2                   |1                   |1                   |0                   |0                   |0                   |25                  |5                   |2                   |1                   |3                   |0                   |0                   |0                   |0                   |0                   |0                   |0                   |1                   |2                   |6                   |5                   |0                   |0                   |0                   |0                   |1                   |4                   |8                   |22                  |e4|e5|Nf3|Nc6|Bb5|a6|Ba4|Nf6|O-O|Be7|Re1|b5|Bb3|O-O|h3|Na5|Nxe5|Nxb3|axb3                                                                                    |\n",
            "|86e0b7f5-7b94-4ae3-97c8-317371622795|21     |11          |Nepomniachtchi,I|d3      |d2d3|d2         |d3       |P    |White|r2q1rk1/1bppbppp/p4n2/1p2N3/4P3/1P1P3P/1PP2PP1/RNBQR1K1   |0       |0            |0             |0                     |0           |0                       |15         |14         |8               |7               |1                |1                |1                 |2                 |2                 |1                 |2               |2               |4                       |3                       |6                   |4                   |3                   |1                   |1                   |0                   |0                   |0                   |25                  |4                   |3                   |1                   |3                   |0                   |0                   |0                   |0                   |0                   |0                   |0                   |1                   |2                   |7                   |4                   |0                   |0                   |0                   |0                   |1                   |4                   |11                  |19                  |e4|e5|Nf3|Nc6|Bb5|a6|Ba4|Nf6|O-O|Be7|Re1|b5|Bb3|O-O|h3|Na5|Nxe5|Nxb3|axb3|Bb7|d3                                                                             |\n",
            "|86e0b7f5-7b94-4ae3-97c8-317371622795|23     |12          |Nepomniachtchi,I|exd5    |e4d5|e4         |d5       |P    |White|r2q1rk1/1bp1bppp/p4n2/1p1PN3/8/1P1P3P/1PP2PP1/RNBQR1K1    |0       |0            |0             |0                     |0           |0                       |15         |13         |8               |6               |1                |1                |1                 |2                 |2                 |1                 |2               |2               |5                       |3                       |6                   |4                   |3                   |0                   |2                   |0                   |0                   |0                   |25                  |4                   |3                   |0                   |4                   |0                   |0                   |0                   |0                   |0                   |0                   |0                   |1                   |2                   |6                   |4                   |0                   |0                   |0                   |0                   |1                   |4                   |10                  |19                  |e4|e5|Nf3|Nc6|Bb5|a6|Ba4|Nf6|O-O|Be7|Re1|b5|Bb3|O-O|h3|Na5|Nxe5|Nxb3|axb3|Bb7|d3|d5|exd5                                                                     |\n",
            "|86e0b7f5-7b94-4ae3-97c8-317371622795|25     |13          |Nepomniachtchi,I|Qf3     |d1f3|d1         |f3       |Q    |White|r4rk1/1bp1bppp/p4n2/1p1qN3/8/1P1P1Q1P/1PP2PP1/RNB1R1K1    |0       |0            |0             |0                     |0           |0                       |14         |13         |7               |6               |1                |1                |1                 |2                 |2                 |1                 |2               |2               |5                       |4                       |5                   |4                   |4                   |0                   |1                   |0                   |0                   |0                   |16                  |4                   |12                  |0                   |3                   |0                   |0                   |0                   |0                   |0                   |0                   |0                   |2                   |2                   |6                   |3                   |0                   |0                   |0                   |0                   |10                  |4                   |10                  |10                  |e4|e5|Nf3|Nc6|Bb5|a6|Ba4|Nf6|O-O|Be7|Re1|b5|Bb3|O-O|h3|Na5|Nxe5|Nxb3|axb3|Bb7|d3|d5|exd5|Qxd5|Qf3                                                            |\n",
            "|86e0b7f5-7b94-4ae3-97c8-317371622795|27     |14          |Nepomniachtchi,I|Kf1     |g1f1|g1         |f1       |K    |White|r4rk1/1bp2ppp/p2b1n2/1p1qN3/8/1P1P1Q1P/1PP2PP1/RNB1RK2    |0       |0            |0             |0                     |0           |0                       |14         |13         |7               |6               |1                |1                |1                 |2                 |2                 |1                 |2               |2               |5                       |4                       |5                   |4                   |4                   |0                   |1                   |0                   |0                   |0                   |16                  |4                   |12                  |0                   |3                   |0                   |0                   |0                   |0                   |0                   |0                   |0                   |2                   |3                   |5                   |3                   |0                   |0                   |0                   |0                   |10                  |7                   |7                   |10                  |e4|e5|Nf3|Nc6|Bb5|a6|Ba4|Nf6|O-O|Be7|Re1|b5|Bb3|O-O|h3|Na5|Nxe5|Nxb3|axb3|Bb7|d3|d5|exd5|Qxd5|Qf3|Bd6|Kf1                                                    |\n",
            "|86e0b7f5-7b94-4ae3-97c8-317371622795|29     |15          |Nepomniachtchi,I|Qxd5    |f3d5|f3         |d5       |Q    |White|rr4k1/1bp2ppp/p2b1n2/1p1QN3/8/1P1P3P/1PP2PP1/RNB1RK2      |0       |0            |0             |0                     |0           |0                       |14         |12         |7               |6               |1                |0                |1                 |2                 |2                 |1                 |2               |2               |14                      |4                       |5                   |4                   |3                   |0                   |2                   |0                   |0                   |0                   |16                  |4                   |3                   |0                   |12                  |0                   |0                   |0                   |0                   |0                   |0                   |0                   |1                   |3                   |5                   |3                   |0                   |0                   |0                   |0                   |1                   |7                   |7                   |10                  |e4|e5|Nf3|Nc6|Bb5|a6|Ba4|Nf6|O-O|Be7|Re1|b5|Bb3|O-O|h3|Na5|Nxe5|Nxb3|axb3|Bb7|d3|d5|exd5|Qxd5|Qf3|Bd6|Kf1|Rfb8|Qxd5                                          |\n",
            "|86e0b7f5-7b94-4ae3-97c8-317371622795|31     |16          |Nepomniachtchi,I|Bd2     |c1d2|c1         |d2       |B    |White|rr4k1/1bp2ppp/p2b4/1p1nN3/8/1P1P3P/1PPB1PP1/RN2RK2        |0       |0            |0             |0                     |0           |0                       |13         |12         |7               |6               |0                |0                |1                 |2                 |2                 |1                 |2               |2               |14                      |13                      |4                   |5                   |3                   |0                   |1                   |0                   |0                   |0                   |13                  |7                   |3                   |0                   |3                   |0                   |0                   |0                   |0                   |0                   |0                   |0                   |2                   |2                   |5                   |3                   |0                   |0                   |0                   |0                   |4                   |4                   |7                   |10                  |e4|e5|Nf3|Nc6|Bb5|a6|Ba4|Nf6|O-O|Be7|Re1|b5|Bb3|O-O|h3|Na5|Nxe5|Nxb3|axb3|Bb7|d3|d5|exd5|Qxd5|Qf3|Bd6|Kf1|Rfb8|Qxd5|Nxd5|Bd2                                 |\n",
            "|86e0b7f5-7b94-4ae3-97c8-317371622795|33     |17          |Nepomniachtchi,I|Nf3     |e5f3|e5         |f3       |N    |White|rr4k1/1b3ppp/p2b4/1ppn4/8/1P1P1N1P/1PPB1PP1/RN2RK2        |0       |0            |0             |0                     |0           |0                       |13         |12         |7               |6               |0                |0                |1                 |2                 |2                 |1                 |2               |2               |14                      |13                      |4                   |5                   |4                   |0                   |0                   |0                   |0                   |0                   |13                  |7                   |6                   |0                   |0                   |0                   |0                   |0                   |0                   |0                   |0                   |0                   |3                   |2                   |4                   |3                   |0                   |0                   |0                   |0                   |5                   |4                   |6                   |10                  |e4|e5|Nf3|Nc6|Bb5|a6|Ba4|Nf6|O-O|Be7|Re1|b5|Bb3|O-O|h3|Na5|Nxe5|Nxb3|axb3|Bb7|d3|d5|exd5|Qxd5|Qf3|Bd6|Kf1|Rfb8|Qxd5|Nxd5|Bd2|c5|Nf3                          |\n",
            "|86e0b7f5-7b94-4ae3-97c8-317371622795|35     |18          |Nepomniachtchi,I|Nc3     |b1c3|b1         |c3       |N    |White|r2r2k1/1b3ppp/p2b4/1ppn4/8/1PNP1N1P/1PPB1PP1/R3RK2        |0       |0            |0             |0                     |0           |0                       |13         |12         |7               |6               |0                |0                |1                 |2                 |2                 |1                 |2               |2               |14                      |13                      |3                   |5                   |5                   |0                   |0                   |0                   |0                   |0                   |10                  |7                   |9                   |0                   |0                   |0                   |0                   |0                   |0                   |0                   |0                   |0                   |3                   |2                   |4                   |3                   |0                   |0                   |0                   |0                   |5                   |4                   |6                   |10                  |e4|e5|Nf3|Nc6|Bb5|a6|Ba4|Nf6|O-O|Be7|Re1|b5|Bb3|O-O|h3|Na5|Nxe5|Nxb3|axb3|Bb7|d3|d5|exd5|Qxd5|Qf3|Bd6|Kf1|Rfb8|Qxd5|Nxd5|Bd2|c5|Nf3|Rd8|Nc3                  |\n",
            "|86e0b7f5-7b94-4ae3-97c8-317371622795|37     |19          |Nepomniachtchi,I|Rec1    |e1c1|e1         |c1       |R    |White|r2r2k1/1b3ppp/p2b4/1pp5/1n6/1PNP1N1P/1PPB1PP1/R1R2K2      |0       |0            |0             |0                     |0           |0                       |13         |12         |7               |6               |0                |0                |1                 |2                 |2                 |1                 |2               |2               |14                      |13                      |3                   |5                   |5                   |0                   |0                   |0                   |0                   |0                   |10                  |7                   |9                   |0                   |0                   |0                   |0                   |0                   |0                   |0                   |0                   |1                   |2                   |2                   |4                   |3                   |0                   |0                   |0                   |3                   |2                   |4                   |6                   |10                  |e4|e5|Nf3|Nc6|Bb5|a6|Ba4|Nf6|O-O|Be7|Re1|b5|Bb3|O-O|h3|Na5|Nxe5|Nxb3|axb3|Bb7|d3|d5|exd5|Qxd5|Qf3|Bd6|Kf1|Rfb8|Qxd5|Nxd5|Bd2|c5|Nf3|Rd8|Nc3|Nb4|Rec1         |\n",
            "|86e0b7f5-7b94-4ae3-97c8-317371622795|39     |20          |Nepomniachtchi,I|Ne2     |c3e2|c3         |e2       |N    |White|2rr2k1/1b3ppp/p2b4/1pp5/1n6/1P1P1N1P/1PPBNPP1/R1R2K2      |0       |0            |0             |0                     |0           |0                       |13         |12         |7               |6               |0                |0                |1                 |2                 |2                 |1                 |2               |2               |14                      |13                      |3                   |6                   |4                   |0                   |0                   |0                   |0                   |0                   |10                  |10                  |6                   |0                   |0                   |0                   |0                   |0                   |0                   |0                   |0                   |1                   |2                   |2                   |4                   |3                   |0                   |0                   |0                   |3                   |2                   |4                   |6                   |10                  |e4|e5|Nf3|Nc6|Bb5|a6|Ba4|Nf6|O-O|Be7|Re1|b5|Bb3|O-O|h3|Na5|Nxe5|Nxb3|axb3|Bb7|d3|d5|exd5|Qxd5|Qf3|Bd6|Kf1|Rfb8|Qxd5|Nxd5|Bd2|c5|Nf3|Rd8|Nc3|Nb4|Rec1|Rac8|Ne2|\n",
            "+------------------------------------+-------+------------+----------------+--------+----+-----------+---------+-----+-----+----------------------------------------------------------+--------+-------------+--------------+----------------------+------------+------------------------+-----------+-----------+----------------+----------------+-----------------+-----------------+------------------+------------------+------------------+------------------+----------------+----------------+------------------------+------------------------+--------------------+--------------------+--------------------+--------------------+--------------------+--------------------+--------------------+--------------------+--------------------+--------------------+--------------------+--------------------+--------------------+--------------------+--------------------+--------------------+--------------------+--------------------+--------------------+--------------------+--------------------+--------------------+--------------------+--------------------+--------------------+--------------------+--------------------+--------------------+--------------------+--------------------+--------------------+--------------------+-------------------------------------------------------------------------------------------------------------------------------------------------------------+\n",
            "only showing top 20 rows\n",
            "\n"
          ]
        }
      ]
    },
    {
      "cell_type": "code",
      "source": [
        "move= history_moves.select(\"is_check_mate\").collect()\n",
        "move"
      ],
      "metadata": {
        "colab": {
          "base_uri": "https://localhost:8080/"
        },
        "id": "ELSgjAIDCVG2",
        "outputId": "51eac115-5d02-4792-93c1-23df6f2a0946"
      },
      "execution_count": null,
      "outputs": [
        {
          "output_type": "execute_result",
          "data": {
            "text/plain": [
              "[Row(is_check_mate=0),\n",
              " Row(is_check_mate=0),\n",
              " Row(is_check_mate=0),\n",
              " Row(is_check_mate=0),\n",
              " Row(is_check_mate=0),\n",
              " Row(is_check_mate=0),\n",
              " Row(is_check_mate=0),\n",
              " Row(is_check_mate=0),\n",
              " Row(is_check_mate=0),\n",
              " Row(is_check_mate=0),\n",
              " Row(is_check_mate=0),\n",
              " Row(is_check_mate=0),\n",
              " Row(is_check_mate=0),\n",
              " Row(is_check_mate=0),\n",
              " Row(is_check_mate=0),\n",
              " Row(is_check_mate=0),\n",
              " Row(is_check_mate=0),\n",
              " Row(is_check_mate=0),\n",
              " Row(is_check_mate=0),\n",
              " Row(is_check_mate=0),\n",
              " Row(is_check_mate=0),\n",
              " Row(is_check_mate=0),\n",
              " Row(is_check_mate=0),\n",
              " Row(is_check_mate=0),\n",
              " Row(is_check_mate=0),\n",
              " Row(is_check_mate=0),\n",
              " Row(is_check_mate=0),\n",
              " Row(is_check_mate=0),\n",
              " Row(is_check_mate=0),\n",
              " Row(is_check_mate=0),\n",
              " Row(is_check_mate=0),\n",
              " Row(is_check_mate=0),\n",
              " Row(is_check_mate=0),\n",
              " Row(is_check_mate=0),\n",
              " Row(is_check_mate=0),\n",
              " Row(is_check_mate=0),\n",
              " Row(is_check_mate=0),\n",
              " Row(is_check_mate=0),\n",
              " Row(is_check_mate=0),\n",
              " Row(is_check_mate=0),\n",
              " Row(is_check_mate=0),\n",
              " Row(is_check_mate=0),\n",
              " Row(is_check_mate=0),\n",
              " Row(is_check_mate=0),\n",
              " Row(is_check_mate=0),\n",
              " Row(is_check_mate=0),\n",
              " Row(is_check_mate=0),\n",
              " Row(is_check_mate=0),\n",
              " Row(is_check_mate=0),\n",
              " Row(is_check_mate=0),\n",
              " Row(is_check_mate=0),\n",
              " Row(is_check_mate=0),\n",
              " Row(is_check_mate=0),\n",
              " Row(is_check_mate=0),\n",
              " Row(is_check_mate=0),\n",
              " Row(is_check_mate=0),\n",
              " Row(is_check_mate=0),\n",
              " Row(is_check_mate=0),\n",
              " Row(is_check_mate=0),\n",
              " Row(is_check_mate=0),\n",
              " Row(is_check_mate=0),\n",
              " Row(is_check_mate=0),\n",
              " Row(is_check_mate=0),\n",
              " Row(is_check_mate=0),\n",
              " Row(is_check_mate=0),\n",
              " Row(is_check_mate=0),\n",
              " Row(is_check_mate=0),\n",
              " Row(is_check_mate=0),\n",
              " Row(is_check_mate=0),\n",
              " Row(is_check_mate=0),\n",
              " Row(is_check_mate=0),\n",
              " Row(is_check_mate=0),\n",
              " Row(is_check_mate=0),\n",
              " Row(is_check_mate=0),\n",
              " Row(is_check_mate=0),\n",
              " Row(is_check_mate=0),\n",
              " Row(is_check_mate=0),\n",
              " Row(is_check_mate=0),\n",
              " Row(is_check_mate=0),\n",
              " Row(is_check_mate=0),\n",
              " Row(is_check_mate=0),\n",
              " Row(is_check_mate=0),\n",
              " Row(is_check_mate=0),\n",
              " Row(is_check_mate=0),\n",
              " Row(is_check_mate=0),\n",
              " Row(is_check_mate=0),\n",
              " Row(is_check_mate=0),\n",
              " Row(is_check_mate=0),\n",
              " Row(is_check_mate=0),\n",
              " Row(is_check_mate=0),\n",
              " Row(is_check_mate=0),\n",
              " Row(is_check_mate=0),\n",
              " Row(is_check_mate=0),\n",
              " Row(is_check_mate=0),\n",
              " Row(is_check_mate=0),\n",
              " Row(is_check_mate=0),\n",
              " Row(is_check_mate=0),\n",
              " Row(is_check_mate=0),\n",
              " Row(is_check_mate=0),\n",
              " Row(is_check_mate=0),\n",
              " Row(is_check_mate=0),\n",
              " Row(is_check_mate=0),\n",
              " Row(is_check_mate=0),\n",
              " Row(is_check_mate=0),\n",
              " Row(is_check_mate=0),\n",
              " Row(is_check_mate=0),\n",
              " Row(is_check_mate=0),\n",
              " Row(is_check_mate=0),\n",
              " Row(is_check_mate=0),\n",
              " Row(is_check_mate=0),\n",
              " Row(is_check_mate=0),\n",
              " Row(is_check_mate=0),\n",
              " Row(is_check_mate=0),\n",
              " Row(is_check_mate=0),\n",
              " Row(is_check_mate=0),\n",
              " Row(is_check_mate=0),\n",
              " Row(is_check_mate=0),\n",
              " Row(is_check_mate=0),\n",
              " Row(is_check_mate=0),\n",
              " Row(is_check_mate=0),\n",
              " Row(is_check_mate=0),\n",
              " Row(is_check_mate=0),\n",
              " Row(is_check_mate=0),\n",
              " Row(is_check_mate=0),\n",
              " Row(is_check_mate=0),\n",
              " Row(is_check_mate=0),\n",
              " Row(is_check_mate=0),\n",
              " Row(is_check_mate=0),\n",
              " Row(is_check_mate=0),\n",
              " Row(is_check_mate=0),\n",
              " Row(is_check_mate=0),\n",
              " Row(is_check_mate=0),\n",
              " Row(is_check_mate=0),\n",
              " Row(is_check_mate=0),\n",
              " Row(is_check_mate=0),\n",
              " Row(is_check_mate=0),\n",
              " Row(is_check_mate=0),\n",
              " Row(is_check_mate=0),\n",
              " Row(is_check_mate=0),\n",
              " Row(is_check_mate=0),\n",
              " Row(is_check_mate=0),\n",
              " Row(is_check_mate=0),\n",
              " Row(is_check_mate=0),\n",
              " Row(is_check_mate=0),\n",
              " Row(is_check_mate=0),\n",
              " Row(is_check_mate=0),\n",
              " Row(is_check_mate=0),\n",
              " Row(is_check_mate=0),\n",
              " Row(is_check_mate=0),\n",
              " Row(is_check_mate=0),\n",
              " Row(is_check_mate=0),\n",
              " Row(is_check_mate=0),\n",
              " Row(is_check_mate=0),\n",
              " Row(is_check_mate=0),\n",
              " Row(is_check_mate=0),\n",
              " Row(is_check_mate=0),\n",
              " Row(is_check_mate=0),\n",
              " Row(is_check_mate=0),\n",
              " Row(is_check_mate=0),\n",
              " Row(is_check_mate=0),\n",
              " Row(is_check_mate=0),\n",
              " Row(is_check_mate=0),\n",
              " Row(is_check_mate=0),\n",
              " Row(is_check_mate=0),\n",
              " Row(is_check_mate=0),\n",
              " Row(is_check_mate=0),\n",
              " Row(is_check_mate=0),\n",
              " Row(is_check_mate=0),\n",
              " Row(is_check_mate=0),\n",
              " Row(is_check_mate=0),\n",
              " Row(is_check_mate=0),\n",
              " Row(is_check_mate=0),\n",
              " Row(is_check_mate=0),\n",
              " Row(is_check_mate=0),\n",
              " Row(is_check_mate=0),\n",
              " Row(is_check_mate=0),\n",
              " Row(is_check_mate=0),\n",
              " Row(is_check_mate=0),\n",
              " Row(is_check_mate=0),\n",
              " Row(is_check_mate=0),\n",
              " Row(is_check_mate=0),\n",
              " Row(is_check_mate=0),\n",
              " Row(is_check_mate=0),\n",
              " Row(is_check_mate=0),\n",
              " Row(is_check_mate=0),\n",
              " Row(is_check_mate=0),\n",
              " Row(is_check_mate=0),\n",
              " Row(is_check_mate=0),\n",
              " Row(is_check_mate=0),\n",
              " Row(is_check_mate=0),\n",
              " Row(is_check_mate=0),\n",
              " Row(is_check_mate=0),\n",
              " Row(is_check_mate=0),\n",
              " Row(is_check_mate=0),\n",
              " Row(is_check_mate=0),\n",
              " Row(is_check_mate=0),\n",
              " Row(is_check_mate=0),\n",
              " Row(is_check_mate=0),\n",
              " Row(is_check_mate=0),\n",
              " Row(is_check_mate=0),\n",
              " Row(is_check_mate=0),\n",
              " Row(is_check_mate=0),\n",
              " Row(is_check_mate=0),\n",
              " Row(is_check_mate=0),\n",
              " Row(is_check_mate=0),\n",
              " Row(is_check_mate=0),\n",
              " Row(is_check_mate=0),\n",
              " Row(is_check_mate=0),\n",
              " Row(is_check_mate=0),\n",
              " Row(is_check_mate=0),\n",
              " Row(is_check_mate=0),\n",
              " Row(is_check_mate=0),\n",
              " Row(is_check_mate=0),\n",
              " Row(is_check_mate=0),\n",
              " Row(is_check_mate=0),\n",
              " Row(is_check_mate=0),\n",
              " Row(is_check_mate=0),\n",
              " Row(is_check_mate=0),\n",
              " Row(is_check_mate=0),\n",
              " Row(is_check_mate=0),\n",
              " Row(is_check_mate=0),\n",
              " Row(is_check_mate=0),\n",
              " Row(is_check_mate=0),\n",
              " Row(is_check_mate=0),\n",
              " Row(is_check_mate=0),\n",
              " Row(is_check_mate=0),\n",
              " Row(is_check_mate=0),\n",
              " Row(is_check_mate=0),\n",
              " Row(is_check_mate=0),\n",
              " Row(is_check_mate=0),\n",
              " Row(is_check_mate=0),\n",
              " Row(is_check_mate=0),\n",
              " Row(is_check_mate=0),\n",
              " Row(is_check_mate=0),\n",
              " Row(is_check_mate=0),\n",
              " Row(is_check_mate=0),\n",
              " Row(is_check_mate=0),\n",
              " Row(is_check_mate=0),\n",
              " Row(is_check_mate=0),\n",
              " Row(is_check_mate=0),\n",
              " Row(is_check_mate=0),\n",
              " Row(is_check_mate=0),\n",
              " Row(is_check_mate=0),\n",
              " Row(is_check_mate=0),\n",
              " Row(is_check_mate=0),\n",
              " Row(is_check_mate=0),\n",
              " Row(is_check_mate=0),\n",
              " Row(is_check_mate=0),\n",
              " Row(is_check_mate=0),\n",
              " Row(is_check_mate=0),\n",
              " Row(is_check_mate=0),\n",
              " Row(is_check_mate=0),\n",
              " Row(is_check_mate=0),\n",
              " Row(is_check_mate=0),\n",
              " Row(is_check_mate=0),\n",
              " Row(is_check_mate=0),\n",
              " Row(is_check_mate=0),\n",
              " Row(is_check_mate=0),\n",
              " Row(is_check_mate=0),\n",
              " Row(is_check_mate=0),\n",
              " Row(is_check_mate=0),\n",
              " Row(is_check_mate=0),\n",
              " Row(is_check_mate=0),\n",
              " Row(is_check_mate=0),\n",
              " Row(is_check_mate=0),\n",
              " Row(is_check_mate=0),\n",
              " Row(is_check_mate=0),\n",
              " Row(is_check_mate=0),\n",
              " Row(is_check_mate=0),\n",
              " Row(is_check_mate=0),\n",
              " Row(is_check_mate=0),\n",
              " Row(is_check_mate=0),\n",
              " Row(is_check_mate=0),\n",
              " Row(is_check_mate=0),\n",
              " Row(is_check_mate=0),\n",
              " Row(is_check_mate=0),\n",
              " Row(is_check_mate=0),\n",
              " Row(is_check_mate=0),\n",
              " Row(is_check_mate=0),\n",
              " Row(is_check_mate=0),\n",
              " Row(is_check_mate=0),\n",
              " Row(is_check_mate=0),\n",
              " Row(is_check_mate=0),\n",
              " Row(is_check_mate=0),\n",
              " Row(is_check_mate=0),\n",
              " Row(is_check_mate=0),\n",
              " Row(is_check_mate=0),\n",
              " Row(is_check_mate=0),\n",
              " Row(is_check_mate=0),\n",
              " Row(is_check_mate=0),\n",
              " Row(is_check_mate=0),\n",
              " Row(is_check_mate=0),\n",
              " Row(is_check_mate=0),\n",
              " Row(is_check_mate=0),\n",
              " Row(is_check_mate=0),\n",
              " Row(is_check_mate=0),\n",
              " Row(is_check_mate=0),\n",
              " Row(is_check_mate=0),\n",
              " Row(is_check_mate=0),\n",
              " Row(is_check_mate=0),\n",
              " Row(is_check_mate=0),\n",
              " Row(is_check_mate=0),\n",
              " Row(is_check_mate=0),\n",
              " Row(is_check_mate=0),\n",
              " Row(is_check_mate=0),\n",
              " Row(is_check_mate=0),\n",
              " Row(is_check_mate=0),\n",
              " Row(is_check_mate=0),\n",
              " Row(is_check_mate=0),\n",
              " Row(is_check_mate=0),\n",
              " Row(is_check_mate=0),\n",
              " Row(is_check_mate=0),\n",
              " Row(is_check_mate=0),\n",
              " Row(is_check_mate=0),\n",
              " Row(is_check_mate=0),\n",
              " Row(is_check_mate=0),\n",
              " Row(is_check_mate=0),\n",
              " Row(is_check_mate=0),\n",
              " Row(is_check_mate=0),\n",
              " Row(is_check_mate=0),\n",
              " Row(is_check_mate=0),\n",
              " Row(is_check_mate=0),\n",
              " Row(is_check_mate=0),\n",
              " Row(is_check_mate=0),\n",
              " Row(is_check_mate=0),\n",
              " Row(is_check_mate=0),\n",
              " Row(is_check_mate=0),\n",
              " Row(is_check_mate=0),\n",
              " Row(is_check_mate=0),\n",
              " Row(is_check_mate=0),\n",
              " Row(is_check_mate=0),\n",
              " Row(is_check_mate=0),\n",
              " Row(is_check_mate=0),\n",
              " Row(is_check_mate=0),\n",
              " Row(is_check_mate=0),\n",
              " Row(is_check_mate=0),\n",
              " Row(is_check_mate=0),\n",
              " Row(is_check_mate=0),\n",
              " Row(is_check_mate=0),\n",
              " Row(is_check_mate=0),\n",
              " Row(is_check_mate=0),\n",
              " Row(is_check_mate=0),\n",
              " Row(is_check_mate=0),\n",
              " Row(is_check_mate=0),\n",
              " Row(is_check_mate=0),\n",
              " Row(is_check_mate=0),\n",
              " Row(is_check_mate=0),\n",
              " Row(is_check_mate=0),\n",
              " Row(is_check_mate=0),\n",
              " Row(is_check_mate=0),\n",
              " Row(is_check_mate=0),\n",
              " Row(is_check_mate=0),\n",
              " Row(is_check_mate=0),\n",
              " Row(is_check_mate=0),\n",
              " Row(is_check_mate=0),\n",
              " Row(is_check_mate=0),\n",
              " Row(is_check_mate=0),\n",
              " Row(is_check_mate=0),\n",
              " Row(is_check_mate=0),\n",
              " Row(is_check_mate=0),\n",
              " Row(is_check_mate=0),\n",
              " Row(is_check_mate=0),\n",
              " Row(is_check_mate=0),\n",
              " Row(is_check_mate=0),\n",
              " Row(is_check_mate=0),\n",
              " Row(is_check_mate=0),\n",
              " Row(is_check_mate=0),\n",
              " Row(is_check_mate=0),\n",
              " Row(is_check_mate=0),\n",
              " Row(is_check_mate=0),\n",
              " Row(is_check_mate=0),\n",
              " Row(is_check_mate=0),\n",
              " Row(is_check_mate=0),\n",
              " Row(is_check_mate=0),\n",
              " Row(is_check_mate=0),\n",
              " Row(is_check_mate=0),\n",
              " Row(is_check_mate=0),\n",
              " Row(is_check_mate=0),\n",
              " Row(is_check_mate=0),\n",
              " Row(is_check_mate=0),\n",
              " Row(is_check_mate=0),\n",
              " Row(is_check_mate=0),\n",
              " Row(is_check_mate=0),\n",
              " Row(is_check_mate=0),\n",
              " Row(is_check_mate=0),\n",
              " Row(is_check_mate=0),\n",
              " Row(is_check_mate=0),\n",
              " Row(is_check_mate=0),\n",
              " Row(is_check_mate=0),\n",
              " Row(is_check_mate=0),\n",
              " Row(is_check_mate=0),\n",
              " Row(is_check_mate=0),\n",
              " Row(is_check_mate=0),\n",
              " Row(is_check_mate=0),\n",
              " Row(is_check_mate=0),\n",
              " Row(is_check_mate=0),\n",
              " Row(is_check_mate=0),\n",
              " Row(is_check_mate=0),\n",
              " Row(is_check_mate=0),\n",
              " Row(is_check_mate=0),\n",
              " Row(is_check_mate=0),\n",
              " Row(is_check_mate=0),\n",
              " Row(is_check_mate=0),\n",
              " Row(is_check_mate=0),\n",
              " Row(is_check_mate=0),\n",
              " Row(is_check_mate=0),\n",
              " Row(is_check_mate=0),\n",
              " Row(is_check_mate=0),\n",
              " Row(is_check_mate=0),\n",
              " Row(is_check_mate=0),\n",
              " Row(is_check_mate=0),\n",
              " Row(is_check_mate=0),\n",
              " Row(is_check_mate=0),\n",
              " Row(is_check_mate=0),\n",
              " Row(is_check_mate=0),\n",
              " Row(is_check_mate=0),\n",
              " Row(is_check_mate=0),\n",
              " Row(is_check_mate=0),\n",
              " Row(is_check_mate=0),\n",
              " Row(is_check_mate=0),\n",
              " Row(is_check_mate=0),\n",
              " Row(is_check_mate=0),\n",
              " Row(is_check_mate=0),\n",
              " Row(is_check_mate=0),\n",
              " Row(is_check_mate=0),\n",
              " Row(is_check_mate=0),\n",
              " Row(is_check_mate=0),\n",
              " Row(is_check_mate=0),\n",
              " Row(is_check_mate=0),\n",
              " Row(is_check_mate=0),\n",
              " Row(is_check_mate=0),\n",
              " Row(is_check_mate=0),\n",
              " Row(is_check_mate=0),\n",
              " Row(is_check_mate=0),\n",
              " Row(is_check_mate=0),\n",
              " Row(is_check_mate=0),\n",
              " Row(is_check_mate=0),\n",
              " Row(is_check_mate=0),\n",
              " Row(is_check_mate=0),\n",
              " Row(is_check_mate=0),\n",
              " Row(is_check_mate=0),\n",
              " Row(is_check_mate=0),\n",
              " Row(is_check_mate=0),\n",
              " Row(is_check_mate=0),\n",
              " Row(is_check_mate=0),\n",
              " Row(is_check_mate=0),\n",
              " Row(is_check_mate=0),\n",
              " Row(is_check_mate=0),\n",
              " Row(is_check_mate=0),\n",
              " Row(is_check_mate=0),\n",
              " Row(is_check_mate=0),\n",
              " Row(is_check_mate=0),\n",
              " Row(is_check_mate=0),\n",
              " Row(is_check_mate=0),\n",
              " Row(is_check_mate=0),\n",
              " Row(is_check_mate=0),\n",
              " Row(is_check_mate=0),\n",
              " Row(is_check_mate=0),\n",
              " Row(is_check_mate=0),\n",
              " Row(is_check_mate=0),\n",
              " Row(is_check_mate=0),\n",
              " Row(is_check_mate=0),\n",
              " Row(is_check_mate=0),\n",
              " Row(is_check_mate=0),\n",
              " Row(is_check_mate=0),\n",
              " Row(is_check_mate=0),\n",
              " Row(is_check_mate=0),\n",
              " Row(is_check_mate=0),\n",
              " Row(is_check_mate=0),\n",
              " Row(is_check_mate=0),\n",
              " Row(is_check_mate=0),\n",
              " Row(is_check_mate=0),\n",
              " Row(is_check_mate=0),\n",
              " Row(is_check_mate=0),\n",
              " Row(is_check_mate=0),\n",
              " Row(is_check_mate=0),\n",
              " Row(is_check_mate=0),\n",
              " Row(is_check_mate=0),\n",
              " Row(is_check_mate=0),\n",
              " Row(is_check_mate=0),\n",
              " Row(is_check_mate=0),\n",
              " Row(is_check_mate=0),\n",
              " Row(is_check_mate=0),\n",
              " Row(is_check_mate=0),\n",
              " Row(is_check_mate=0),\n",
              " Row(is_check_mate=0),\n",
              " Row(is_check_mate=0),\n",
              " Row(is_check_mate=0),\n",
              " Row(is_check_mate=0),\n",
              " Row(is_check_mate=0),\n",
              " Row(is_check_mate=0),\n",
              " Row(is_check_mate=0),\n",
              " Row(is_check_mate=0),\n",
              " Row(is_check_mate=0),\n",
              " Row(is_check_mate=0),\n",
              " Row(is_check_mate=0),\n",
              " Row(is_check_mate=0),\n",
              " Row(is_check_mate=0),\n",
              " Row(is_check_mate=0),\n",
              " Row(is_check_mate=0),\n",
              " Row(is_check_mate=0),\n",
              " Row(is_check_mate=0),\n",
              " Row(is_check_mate=0),\n",
              " Row(is_check_mate=0),\n",
              " Row(is_check_mate=0),\n",
              " Row(is_check_mate=0),\n",
              " Row(is_check_mate=0),\n",
              " Row(is_check_mate=0),\n",
              " Row(is_check_mate=0),\n",
              " Row(is_check_mate=0),\n",
              " Row(is_check_mate=0),\n",
              " Row(is_check_mate=0),\n",
              " Row(is_check_mate=0),\n",
              " Row(is_check_mate=0),\n",
              " Row(is_check_mate=0),\n",
              " Row(is_check_mate=0),\n",
              " Row(is_check_mate=0),\n",
              " Row(is_check_mate=0),\n",
              " Row(is_check_mate=0),\n",
              " Row(is_check_mate=0),\n",
              " Row(is_check_mate=0),\n",
              " Row(is_check_mate=0),\n",
              " Row(is_check_mate=0),\n",
              " Row(is_check_mate=0),\n",
              " Row(is_check_mate=0),\n",
              " Row(is_check_mate=0),\n",
              " Row(is_check_mate=0),\n",
              " Row(is_check_mate=0),\n",
              " Row(is_check_mate=0),\n",
              " Row(is_check_mate=0),\n",
              " Row(is_check_mate=0),\n",
              " Row(is_check_mate=0),\n",
              " Row(is_check_mate=0),\n",
              " Row(is_check_mate=0),\n",
              " Row(is_check_mate=0),\n",
              " Row(is_check_mate=0),\n",
              " Row(is_check_mate=0),\n",
              " Row(is_check_mate=0),\n",
              " Row(is_check_mate=0),\n",
              " Row(is_check_mate=0),\n",
              " Row(is_check_mate=0),\n",
              " Row(is_check_mate=0),\n",
              " Row(is_check_mate=0),\n",
              " Row(is_check_mate=0),\n",
              " Row(is_check_mate=0),\n",
              " Row(is_check_mate=0),\n",
              " Row(is_check_mate=0),\n",
              " Row(is_check_mate=0),\n",
              " Row(is_check_mate=0),\n",
              " Row(is_check_mate=0),\n",
              " Row(is_check_mate=0),\n",
              " Row(is_check_mate=0),\n",
              " Row(is_check_mate=0),\n",
              " Row(is_check_mate=0),\n",
              " Row(is_check_mate=0),\n",
              " Row(is_check_mate=0),\n",
              " Row(is_check_mate=0),\n",
              " Row(is_check_mate=0),\n",
              " Row(is_check_mate=0),\n",
              " Row(is_check_mate=0),\n",
              " Row(is_check_mate=0),\n",
              " Row(is_check_mate=0),\n",
              " Row(is_check_mate=0),\n",
              " Row(is_check_mate=0),\n",
              " Row(is_check_mate=0),\n",
              " Row(is_check_mate=0),\n",
              " Row(is_check_mate=0),\n",
              " Row(is_check_mate=0),\n",
              " Row(is_check_mate=0),\n",
              " Row(is_check_mate=0),\n",
              " Row(is_check_mate=0),\n",
              " Row(is_check_mate=0),\n",
              " Row(is_check_mate=0),\n",
              " Row(is_check_mate=0),\n",
              " Row(is_check_mate=0),\n",
              " Row(is_check_mate=0),\n",
              " Row(is_check_mate=0),\n",
              " Row(is_check_mate=0),\n",
              " Row(is_check_mate=0),\n",
              " Row(is_check_mate=0),\n",
              " Row(is_check_mate=0),\n",
              " Row(is_check_mate=0),\n",
              " Row(is_check_mate=0),\n",
              " Row(is_check_mate=0),\n",
              " Row(is_check_mate=0),\n",
              " Row(is_check_mate=0),\n",
              " Row(is_check_mate=0),\n",
              " Row(is_check_mate=0),\n",
              " Row(is_check_mate=0),\n",
              " Row(is_check_mate=0),\n",
              " Row(is_check_mate=0),\n",
              " Row(is_check_mate=0),\n",
              " Row(is_check_mate=0),\n",
              " Row(is_check_mate=0),\n",
              " Row(is_check_mate=0),\n",
              " Row(is_check_mate=0),\n",
              " Row(is_check_mate=0),\n",
              " Row(is_check_mate=0),\n",
              " Row(is_check_mate=0),\n",
              " Row(is_check_mate=0),\n",
              " Row(is_check_mate=0),\n",
              " Row(is_check_mate=0),\n",
              " Row(is_check_mate=0),\n",
              " Row(is_check_mate=0),\n",
              " Row(is_check_mate=0),\n",
              " Row(is_check_mate=0),\n",
              " Row(is_check_mate=0),\n",
              " Row(is_check_mate=0),\n",
              " Row(is_check_mate=0),\n",
              " Row(is_check_mate=0),\n",
              " Row(is_check_mate=0),\n",
              " Row(is_check_mate=0),\n",
              " Row(is_check_mate=0),\n",
              " Row(is_check_mate=0),\n",
              " Row(is_check_mate=0),\n",
              " Row(is_check_mate=0),\n",
              " Row(is_check_mate=0),\n",
              " Row(is_check_mate=0),\n",
              " Row(is_check_mate=0),\n",
              " Row(is_check_mate=0),\n",
              " Row(is_check_mate=0),\n",
              " Row(is_check_mate=0),\n",
              " Row(is_check_mate=0),\n",
              " Row(is_check_mate=0),\n",
              " Row(is_check_mate=0),\n",
              " Row(is_check_mate=0),\n",
              " Row(is_check_mate=0),\n",
              " Row(is_check_mate=0),\n",
              " Row(is_check_mate=0),\n",
              " Row(is_check_mate=0),\n",
              " Row(is_check_mate=0),\n",
              " Row(is_check_mate=0),\n",
              " Row(is_check_mate=0),\n",
              " Row(is_check_mate=0),\n",
              " Row(is_check_mate=0),\n",
              " Row(is_check_mate=0),\n",
              " Row(is_check_mate=0),\n",
              " Row(is_check_mate=0),\n",
              " Row(is_check_mate=0),\n",
              " Row(is_check_mate=0),\n",
              " Row(is_check_mate=0),\n",
              " Row(is_check_mate=0),\n",
              " Row(is_check_mate=0),\n",
              " Row(is_check_mate=0),\n",
              " Row(is_check_mate=0),\n",
              " Row(is_check_mate=0),\n",
              " Row(is_check_mate=0),\n",
              " Row(is_check_mate=0),\n",
              " Row(is_check_mate=0),\n",
              " Row(is_check_mate=0),\n",
              " Row(is_check_mate=0),\n",
              " Row(is_check_mate=0),\n",
              " Row(is_check_mate=0),\n",
              " Row(is_check_mate=0),\n",
              " Row(is_check_mate=0),\n",
              " Row(is_check_mate=0),\n",
              " Row(is_check_mate=0),\n",
              " Row(is_check_mate=0),\n",
              " Row(is_check_mate=0),\n",
              " Row(is_check_mate=0),\n",
              " Row(is_check_mate=0),\n",
              " Row(is_check_mate=0),\n",
              " Row(is_check_mate=0),\n",
              " Row(is_check_mate=0),\n",
              " Row(is_check_mate=0),\n",
              " Row(is_check_mate=0),\n",
              " Row(is_check_mate=0),\n",
              " Row(is_check_mate=0),\n",
              " Row(is_check_mate=0),\n",
              " Row(is_check_mate=0),\n",
              " Row(is_check_mate=0),\n",
              " Row(is_check_mate=0),\n",
              " Row(is_check_mate=0),\n",
              " Row(is_check_mate=0),\n",
              " Row(is_check_mate=0),\n",
              " Row(is_check_mate=0),\n",
              " Row(is_check_mate=0),\n",
              " Row(is_check_mate=0),\n",
              " Row(is_check_mate=0),\n",
              " Row(is_check_mate=0),\n",
              " Row(is_check_mate=0),\n",
              " Row(is_check_mate=0),\n",
              " Row(is_check_mate=0),\n",
              " Row(is_check_mate=0),\n",
              " Row(is_check_mate=0),\n",
              " Row(is_check_mate=0),\n",
              " Row(is_check_mate=0),\n",
              " Row(is_check_mate=0),\n",
              " Row(is_check_mate=0),\n",
              " Row(is_check_mate=0),\n",
              " Row(is_check_mate=0),\n",
              " Row(is_check_mate=0),\n",
              " Row(is_check_mate=0),\n",
              " Row(is_check_mate=0),\n",
              " Row(is_check_mate=0),\n",
              " Row(is_check_mate=0),\n",
              " Row(is_check_mate=0),\n",
              " Row(is_check_mate=0),\n",
              " Row(is_check_mate=0),\n",
              " Row(is_check_mate=0),\n",
              " Row(is_check_mate=0),\n",
              " Row(is_check_mate=0),\n",
              " Row(is_check_mate=0),\n",
              " Row(is_check_mate=0),\n",
              " Row(is_check_mate=0),\n",
              " Row(is_check_mate=0),\n",
              " Row(is_check_mate=0),\n",
              " Row(is_check_mate=0),\n",
              " Row(is_check_mate=0),\n",
              " Row(is_check_mate=0),\n",
              " Row(is_check_mate=0),\n",
              " Row(is_check_mate=0),\n",
              " Row(is_check_mate=0),\n",
              " Row(is_check_mate=0),\n",
              " Row(is_check_mate=0),\n",
              " Row(is_check_mate=0),\n",
              " Row(is_check_mate=0),\n",
              " Row(is_check_mate=0),\n",
              " Row(is_check_mate=0),\n",
              " Row(is_check_mate=0),\n",
              " Row(is_check_mate=0),\n",
              " Row(is_check_mate=0),\n",
              " Row(is_check_mate=0),\n",
              " Row(is_check_mate=0),\n",
              " Row(is_check_mate=0),\n",
              " Row(is_check_mate=0),\n",
              " Row(is_check_mate=0),\n",
              " Row(is_check_mate=0),\n",
              " Row(is_check_mate=0),\n",
              " Row(is_check_mate=0),\n",
              " Row(is_check_mate=0),\n",
              " Row(is_check_mate=0),\n",
              " Row(is_check_mate=0),\n",
              " Row(is_check_mate=0),\n",
              " Row(is_check_mate=0),\n",
              " Row(is_check_mate=0),\n",
              " Row(is_check_mate=0),\n",
              " Row(is_check_mate=0),\n",
              " Row(is_check_mate=0),\n",
              " Row(is_check_mate=0),\n",
              " Row(is_check_mate=0),\n",
              " Row(is_check_mate=0),\n",
              " Row(is_check_mate=0),\n",
              " Row(is_check_mate=0),\n",
              " Row(is_check_mate=0),\n",
              " Row(is_check_mate=0),\n",
              " Row(is_check_mate=0),\n",
              " Row(is_check_mate=0),\n",
              " Row(is_check_mate=0),\n",
              " Row(is_check_mate=0),\n",
              " Row(is_check_mate=0),\n",
              " Row(is_check_mate=0),\n",
              " Row(is_check_mate=0),\n",
              " Row(is_check_mate=0),\n",
              " Row(is_check_mate=0),\n",
              " Row(is_check_mate=0),\n",
              " Row(is_check_mate=0),\n",
              " Row(is_check_mate=0),\n",
              " Row(is_check_mate=0),\n",
              " Row(is_check_mate=0),\n",
              " Row(is_check_mate=0),\n",
              " Row(is_check_mate=0),\n",
              " Row(is_check_mate=0),\n",
              " Row(is_check_mate=0),\n",
              " Row(is_check_mate=0),\n",
              " Row(is_check_mate=0),\n",
              " Row(is_check_mate=0),\n",
              " Row(is_check_mate=0),\n",
              " Row(is_check_mate=0),\n",
              " Row(is_check_mate=0),\n",
              " Row(is_check_mate=0),\n",
              " Row(is_check_mate=0),\n",
              " Row(is_check_mate=0),\n",
              " Row(is_check_mate=0),\n",
              " Row(is_check_mate=0),\n",
              " Row(is_check_mate=0),\n",
              " Row(is_check_mate=0),\n",
              " Row(is_check_mate=0),\n",
              " Row(is_check_mate=0),\n",
              " Row(is_check_mate=0),\n",
              " Row(is_check_mate=0),\n",
              " Row(is_check_mate=0),\n",
              " Row(is_check_mate=0),\n",
              " Row(is_check_mate=0),\n",
              " Row(is_check_mate=0),\n",
              " Row(is_check_mate=0),\n",
              " Row(is_check_mate=0),\n",
              " Row(is_check_mate=0),\n",
              " Row(is_check_mate=0),\n",
              " Row(is_check_mate=0),\n",
              " Row(is_check_mate=0),\n",
              " Row(is_check_mate=0),\n",
              " Row(is_check_mate=0),\n",
              " Row(is_check_mate=0),\n",
              " Row(is_check_mate=0),\n",
              " Row(is_check_mate=0),\n",
              " Row(is_check_mate=0),\n",
              " Row(is_check_mate=0),\n",
              " Row(is_check_mate=0),\n",
              " Row(is_check_mate=0),\n",
              " Row(is_check_mate=0),\n",
              " Row(is_check_mate=0),\n",
              " Row(is_check_mate=0),\n",
              " Row(is_check_mate=0),\n",
              " Row(is_check_mate=0),\n",
              " Row(is_check_mate=0),\n",
              " Row(is_check_mate=0),\n",
              " Row(is_check_mate=0),\n",
              " Row(is_check_mate=0),\n",
              " Row(is_check_mate=0),\n",
              " Row(is_check_mate=0),\n",
              " Row(is_check_mate=0),\n",
              " Row(is_check_mate=0),\n",
              " Row(is_check_mate=0),\n",
              " Row(is_check_mate=0),\n",
              " Row(is_check_mate=0),\n",
              " Row(is_check_mate=0),\n",
              " Row(is_check_mate=0),\n",
              " Row(is_check_mate=0),\n",
              " Row(is_check_mate=0),\n",
              " Row(is_check_mate=0),\n",
              " Row(is_check_mate=0),\n",
              " Row(is_check_mate=0),\n",
              " Row(is_check_mate=0),\n",
              " Row(is_check_mate=0),\n",
              " Row(is_check_mate=0),\n",
              " Row(is_check_mate=0),\n",
              " Row(is_check_mate=0),\n",
              " Row(is_check_mate=0),\n",
              " Row(is_check_mate=0),\n",
              " Row(is_check_mate=0),\n",
              " Row(is_check_mate=0),\n",
              " Row(is_check_mate=0),\n",
              " Row(is_check_mate=0),\n",
              " Row(is_check_mate=0),\n",
              " Row(is_check_mate=0),\n",
              " Row(is_check_mate=0),\n",
              " Row(is_check_mate=0),\n",
              " Row(is_check_mate=0),\n",
              " Row(is_check_mate=0),\n",
              " Row(is_check_mate=0),\n",
              " Row(is_check_mate=0),\n",
              " Row(is_check_mate=0),\n",
              " Row(is_check_mate=0),\n",
              " Row(is_check_mate=0),\n",
              " Row(is_check_mate=0),\n",
              " Row(is_check_mate=0),\n",
              " Row(is_check_mate=0),\n",
              " Row(is_check_mate=0),\n",
              " Row(is_check_mate=0),\n",
              " Row(is_check_mate=0),\n",
              " Row(is_check_mate=0),\n",
              " Row(is_check_mate=0),\n",
              " Row(is_check_mate=0),\n",
              " Row(is_check_mate=0),\n",
              " Row(is_check_mate=0),\n",
              " Row(is_check_mate=0),\n",
              " Row(is_check_mate=0),\n",
              " Row(is_check_mate=0),\n",
              " Row(is_check_mate=0),\n",
              " Row(is_check_mate=0),\n",
              " Row(is_check_mate=0),\n",
              " Row(is_check_mate=0),\n",
              " Row(is_check_mate=0),\n",
              " Row(is_check_mate=0),\n",
              " Row(is_check_mate=0),\n",
              " Row(is_check_mate=0),\n",
              " Row(is_check_mate=0),\n",
              " Row(is_check_mate=0),\n",
              " Row(is_check_mate=0),\n",
              " Row(is_check_mate=0),\n",
              " Row(is_check_mate=0),\n",
              " Row(is_check_mate=0),\n",
              " Row(is_check_mate=0),\n",
              " Row(is_check_mate=0),\n",
              " Row(is_check_mate=0),\n",
              " Row(is_check_mate=0),\n",
              " Row(is_check_mate=0),\n",
              " Row(is_check_mate=0),\n",
              " Row(is_check_mate=0),\n",
              " Row(is_check_mate=0),\n",
              " Row(is_check_mate=0),\n",
              " Row(is_check_mate=0),\n",
              " Row(is_check_mate=0),\n",
              " Row(is_check_mate=0),\n",
              " Row(is_check_mate=0),\n",
              " Row(is_check_mate=0),\n",
              " Row(is_check_mate=0),\n",
              " Row(is_check_mate=0),\n",
              " Row(is_check_mate=0),\n",
              " Row(is_check_mate=0),\n",
              " Row(is_check_mate=0),\n",
              " Row(is_check_mate=0),\n",
              " Row(is_check_mate=0),\n",
              " Row(is_check_mate=0),\n",
              " Row(is_check_mate=0),\n",
              " Row(is_check_mate=0),\n",
              " Row(is_check_mate=0),\n",
              " Row(is_check_mate=0),\n",
              " Row(is_check_mate=0),\n",
              " Row(is_check_mate=0),\n",
              " Row(is_check_mate=0),\n",
              " Row(is_check_mate=0),\n",
              " Row(is_check_mate=0),\n",
              " Row(is_check_mate=0),\n",
              " Row(is_check_mate=0),\n",
              " Row(is_check_mate=0),\n",
              " Row(is_check_mate=0),\n",
              " Row(is_check_mate=0),\n",
              " Row(is_check_mate=0),\n",
              " Row(is_check_mate=0),\n",
              " Row(is_check_mate=0),\n",
              " Row(is_check_mate=0),\n",
              " Row(is_check_mate=0),\n",
              " Row(is_check_mate=0),\n",
              " Row(is_check_mate=0),\n",
              " Row(is_check_mate=0),\n",
              " Row(is_check_mate=0),\n",
              " Row(is_check_mate=0),\n",
              " Row(is_check_mate=0),\n",
              " Row(is_check_mate=0),\n",
              " Row(is_check_mate=0),\n",
              " Row(is_check_mate=0),\n",
              " Row(is_check_mate=0),\n",
              " Row(is_check_mate=0),\n",
              " Row(is_check_mate=0),\n",
              " Row(is_check_mate=0),\n",
              " Row(is_check_mate=0),\n",
              " Row(is_check_mate=0),\n",
              " Row(is_check_mate=0),\n",
              " Row(is_check_mate=0),\n",
              " Row(is_check_mate=0),\n",
              " Row(is_check_mate=0),\n",
              " Row(is_check_mate=0),\n",
              " Row(is_check_mate=0),\n",
              " Row(is_check_mate=0),\n",
              " Row(is_check_mate=0),\n",
              " Row(is_check_mate=0),\n",
              " Row(is_check_mate=0),\n",
              " Row(is_check_mate=0),\n",
              " Row(is_check_mate=0),\n",
              " Row(is_check_mate=0),\n",
              " Row(is_check_mate=0),\n",
              " Row(is_check_mate=0),\n",
              " Row(is_check_mate=0),\n",
              " Row(is_check_mate=0),\n",
              " Row(is_check_mate=0),\n",
              " Row(is_check_mate=0),\n",
              " Row(is_check_mate=0),\n",
              " Row(is_check_mate=0),\n",
              " Row(is_check_mate=0),\n",
              " Row(is_check_mate=0),\n",
              " Row(is_check_mate=0),\n",
              " Row(is_check_mate=0),\n",
              " Row(is_check_mate=0),\n",
              " Row(is_check_mate=0),\n",
              " Row(is_check_mate=0),\n",
              " Row(is_check_mate=0),\n",
              " Row(is_check_mate=0),\n",
              " Row(is_check_mate=0),\n",
              " Row(is_check_mate=0),\n",
              " Row(is_check_mate=0),\n",
              " Row(is_check_mate=0),\n",
              " Row(is_check_mate=0),\n",
              " Row(is_check_mate=0),\n",
              " Row(is_check_mate=0),\n",
              " Row(is_check_mate=0),\n",
              " Row(is_check_mate=0),\n",
              " Row(is_check_mate=0),\n",
              " Row(is_check_mate=0),\n",
              " Row(is_check_mate=0),\n",
              " Row(is_check_mate=0),\n",
              " Row(is_check_mate=0),\n",
              " Row(is_check_mate=0),\n",
              " Row(is_check_mate=0),\n",
              " Row(is_check_mate=0),\n",
              " Row(is_check_mate=0),\n",
              " Row(is_check_mate=0),\n",
              " Row(is_check_mate=0),\n",
              " Row(is_check_mate=0),\n",
              " Row(is_check_mate=0),\n",
              " Row(is_check_mate=0),\n",
              " Row(is_check_mate=0),\n",
              " Row(is_check_mate=0),\n",
              " Row(is_check_mate=0),\n",
              " Row(is_check_mate=0),\n",
              " Row(is_check_mate=0),\n",
              " Row(is_check_mate=0),\n",
              " Row(is_check_mate=0),\n",
              " Row(is_check_mate=0),\n",
              " Row(is_check_mate=0),\n",
              " Row(is_check_mate=0),\n",
              " Row(is_check_mate=0),\n",
              " Row(is_check_mate=0),\n",
              " Row(is_check_mate=0),\n",
              " Row(is_check_mate=0),\n",
              " Row(is_check_mate=0),\n",
              " Row(is_check_mate=0),\n",
              " Row(is_check_mate=0),\n",
              " Row(is_check_mate=0),\n",
              " ...]"
            ]
          },
          "metadata": {},
          "execution_count": 81
        }
      ]
    },
    {
      "cell_type": "code",
      "source": [
        "from pyspark.sql.functions import col\n",
        "history_moves.select(col(\"game_id\"),col(\"player\")).show()"
      ],
      "metadata": {
        "colab": {
          "base_uri": "https://localhost:8080/"
        },
        "id": "nWazp8qxEPCC",
        "outputId": "2c2c483d-41de-4e62-878e-0ecd22ef6681"
      },
      "execution_count": null,
      "outputs": [
        {
          "output_type": "stream",
          "name": "stdout",
          "text": [
            "+--------------------+----------------+\n",
            "|             game_id|          player|\n",
            "+--------------------+----------------+\n",
            "|86e0b7f5-7b94-4ae...|Nepomniachtchi,I|\n",
            "|86e0b7f5-7b94-4ae...|       Carlsen,M|\n",
            "|86e0b7f5-7b94-4ae...|Nepomniachtchi,I|\n",
            "|86e0b7f5-7b94-4ae...|       Carlsen,M|\n",
            "|86e0b7f5-7b94-4ae...|Nepomniachtchi,I|\n",
            "|86e0b7f5-7b94-4ae...|       Carlsen,M|\n",
            "|86e0b7f5-7b94-4ae...|Nepomniachtchi,I|\n",
            "|86e0b7f5-7b94-4ae...|       Carlsen,M|\n",
            "|86e0b7f5-7b94-4ae...|Nepomniachtchi,I|\n",
            "|86e0b7f5-7b94-4ae...|       Carlsen,M|\n",
            "|86e0b7f5-7b94-4ae...|Nepomniachtchi,I|\n",
            "|86e0b7f5-7b94-4ae...|       Carlsen,M|\n",
            "|86e0b7f5-7b94-4ae...|Nepomniachtchi,I|\n",
            "|86e0b7f5-7b94-4ae...|       Carlsen,M|\n",
            "|86e0b7f5-7b94-4ae...|Nepomniachtchi,I|\n",
            "|86e0b7f5-7b94-4ae...|       Carlsen,M|\n",
            "|86e0b7f5-7b94-4ae...|Nepomniachtchi,I|\n",
            "|86e0b7f5-7b94-4ae...|       Carlsen,M|\n",
            "|86e0b7f5-7b94-4ae...|Nepomniachtchi,I|\n",
            "|86e0b7f5-7b94-4ae...|       Carlsen,M|\n",
            "+--------------------+----------------+\n",
            "only showing top 20 rows\n",
            "\n"
          ]
        }
      ]
    },
    {
      "cell_type": "code",
      "source": [
        "from pyspark.sql.functions import col\n",
        "history_moves.select(col(\"player\"),col(\"move_sequence\")).show()"
      ],
      "metadata": {
        "colab": {
          "base_uri": "https://localhost:8080/"
        },
        "id": "28o6WZWNNYV_",
        "outputId": "17183875-8778-49ca-d818-20111e275d9c"
      },
      "execution_count": null,
      "outputs": [
        {
          "output_type": "stream",
          "name": "stdout",
          "text": [
            "+----------------+--------------------+\n",
            "|          player|       move_sequence|\n",
            "+----------------+--------------------+\n",
            "|Nepomniachtchi,I|                  e4|\n",
            "|       Carlsen,M|               e4|e5|\n",
            "|Nepomniachtchi,I|           e4|e5|Nf3|\n",
            "|       Carlsen,M|       e4|e5|Nf3|Nc6|\n",
            "|Nepomniachtchi,I|   e4|e5|Nf3|Nc6|Bb5|\n",
            "|       Carlsen,M|e4|e5|Nf3|Nc6|Bb5|a6|\n",
            "|Nepomniachtchi,I|e4|e5|Nf3|Nc6|Bb5...|\n",
            "|       Carlsen,M|e4|e5|Nf3|Nc6|Bb5...|\n",
            "|Nepomniachtchi,I|e4|e5|Nf3|Nc6|Bb5...|\n",
            "|       Carlsen,M|e4|e5|Nf3|Nc6|Bb5...|\n",
            "|Nepomniachtchi,I|e4|e5|Nf3|Nc6|Bb5...|\n",
            "|       Carlsen,M|e4|e5|Nf3|Nc6|Bb5...|\n",
            "|Nepomniachtchi,I|e4|e5|Nf3|Nc6|Bb5...|\n",
            "|       Carlsen,M|e4|e5|Nf3|Nc6|Bb5...|\n",
            "|Nepomniachtchi,I|e4|e5|Nf3|Nc6|Bb5...|\n",
            "|       Carlsen,M|e4|e5|Nf3|Nc6|Bb5...|\n",
            "|Nepomniachtchi,I|e4|e5|Nf3|Nc6|Bb5...|\n",
            "|       Carlsen,M|e4|e5|Nf3|Nc6|Bb5...|\n",
            "|Nepomniachtchi,I|e4|e5|Nf3|Nc6|Bb5...|\n",
            "|       Carlsen,M|e4|e5|Nf3|Nc6|Bb5...|\n",
            "+----------------+--------------------+\n",
            "only showing top 20 rows\n",
            "\n"
          ]
        }
      ]
    },
    {
      "cell_type": "markdown",
      "source": [
        "<b> 3rd Last Player with most Loss.<b>"
      ],
      "metadata": {
        "id": "FU0YEVHtXQmI"
      }
    },
    {
      "cell_type": "code",
      "source": [
        "li = history_game.select(\"loser\").where((history_game.loser!=\"null\") & (history_game.loser!=\"draw\"))\n",
        "  "
      ],
      "metadata": {
        "id": "fu-uhy_VNFsK"
      },
      "execution_count": 121,
      "outputs": []
    },
    {
      "cell_type": "code",
      "source": [
        "li = li.groupBy(\"loser\").count()\n",
        "li = li.sort(col(\"count\").desc())"
      ],
      "metadata": {
        "id": "pTPgh98XXw2H"
      },
      "execution_count": 125,
      "outputs": []
    },
    {
      "cell_type": "code",
      "source": [
        "li.registerTempTable(\"df_table\")\n",
        "spark.sql(\"select loser from df_table limit 1\").show()"
      ],
      "metadata": {
        "colab": {
          "base_uri": "https://localhost:8080/"
        },
        "id": "YJ9kgXrDXj35",
        "outputId": "2cfbeb08-d01f-40c8-8156-4ce8f1070bfd"
      },
      "execution_count": 126,
      "outputs": [
        {
          "output_type": "stream",
          "name": "stdout",
          "text": [
            "+-----------------+\n",
            "|            loser|\n",
            "+-----------------+\n",
            "|Steinitz, William|\n",
            "+-----------------+\n",
            "\n"
          ]
        }
      ]
    },
    {
      "cell_type": "code",
      "source": [
        "history_game.join(history_moves,history_game[\"game_id\"] == history_moves[\"game_id\"]).show()\n"
      ],
      "metadata": {
        "colab": {
          "base_uri": "https://localhost:8080/"
        },
        "id": "2vxPs5aLGFeB",
        "outputId": "1a9d8854-13b1-42d4-9d01-2995757dd234"
      },
      "execution_count": null,
      "outputs": [
        {
          "output_type": "stream",
          "name": "stdout",
          "text": [
            "+--------------------+----------+--------+---------+-----------+-----+----------------+---------+-------+---------+---------+-----------+-----------+------+----------+-----+---------+---------------------+---+--------------------+---------------+--------------------+-------+------------+----------------+--------+----+-----------+---------+-----+-----+--------------------+--------+-------------+--------------+----------------------+------------+------------------------+-----------+-----------+----------------+----------------+-----------------+-----------------+------------------+------------------+------------------+------------------+----------------+----------------+------------------------+------------------------+--------------------+--------------------+--------------------+--------------------+--------------------+--------------------+--------------------+--------------------+--------------------+--------------------+--------------------+--------------------+--------------------+--------------------+--------------------+--------------------+--------------------+--------------------+--------------------+--------------------+--------------------+--------------------+--------------------+--------------------+--------------------+--------------------+--------------------+--------------------+--------------------+--------------------+--------------------+--------------------+--------------------+\n",
            "|             game_id|game_order|   event|     site|date_played|round|           white|    black| result|white_elo|black_elo|white_title|black_title|winner|winner_elo|loser|loser_elo|winner_loser_elo_diff|eco|        date_created|tournament_name|             game_id|move_no|move_no_pair|          player|notation|move|from_square|to_square|piece|color|                 fen|is_check|is_check_mate|is_fifty_moves|is_fivefold_repetition|is_game_over|is_insufficient_material|white_count|black_count|white_pawn_count|black_pawn_count|white_queen_count|black_queen_count|white_bishop_count|black_bishop_count|white_knight_count|black_knight_count|white_rook_count|black_rook_count|captured_score_for_white|captured_score_for_black|fen_row1_white_count|fen_row2_white_count|fen_row3_white_count|fen_row4_white_count|fen_row5_white_count|fen_row6_white_count|fen_row7_white_count|fen_row8_white_count|fen_row1_white_value|fen_row2_white_value|fen_row3_white_value|fen_row4_white_value|fen_row5_white_value|fen_row6_white_value|fen_row7_white_value|fen_row8_white_value|fen_row1_black_count|fen_row2_black_count|fen_row3_black_count|fen_row4_black_count|fen_row5_black_count|fen_row6_black_count|fen_row7_black_count|fen_row8_black_count|fen_row1_black_value|fen_row2_black_value|fen_row3_black_value|fen_row4_black_value|fen_row5_black_value|fen_row6_black_value|fen_row7_black_value|fen_row8_black_value|       move_sequence|\n",
            "+--------------------+----------+--------+---------+-----------+-----+----------------+---------+-------+---------+---------+-----------+-----------+------+----------+-----+---------+---------------------+---+--------------------+---------------+--------------------+-------+------------+----------------+--------+----+-----------+---------+-----+-----+--------------------+--------+-------------+--------------+----------------------+------------+------------------------+-----------+-----------+----------------+----------------+-----------------+-----------------+------------------+------------------+------------------+------------------+----------------+----------------+------------------------+------------------------+--------------------+--------------------+--------------------+--------------------+--------------------+--------------------+--------------------+--------------------+--------------------+--------------------+--------------------+--------------------+--------------------+--------------------+--------------------+--------------------+--------------------+--------------------+--------------------+--------------------+--------------------+--------------------+--------------------+--------------------+--------------------+--------------------+--------------------+--------------------+--------------------+--------------------+--------------------+--------------------+--------------------+\n",
            "|86e0b7f5-7b94-4ae...|         1|WCh 2021|Dubai UAE| 2021.11.26|  1.0|Nepomniachtchi,I|Carlsen,M|1/2-1/2|     2782|     2855|       null|       null|  draw|      null| draw|     null|                    0|C88|2022-07-22T22:33:...| WorldChamp2021|86e0b7f5-7b94-4ae...|      1|           1|Nepomniachtchi,I|      e4|e2e4|         e2|       e4|    P|White|rnbqkbnr/pppppppp...|       0|            0|             0|                     0|           0|                       0|         16|         16|               8|               8|                1|                1|                 2|                 2|                 2|                 2|               2|               2|                       0|                       0|                   8|                   7|                   0|                   1|                   0|                   0|                   0|                   0|                  31|                   7|                   0|                   1|                   0|                   0|                   0|                   0|                   0|                   0|                   0|                   0|                   0|                   0|                   8|                   8|                   0|                   0|                   0|                   0|                   0|                   0|                   8|                  31|                  e4|\n",
            "|86e0b7f5-7b94-4ae...|         1|WCh 2021|Dubai UAE| 2021.11.26|  1.0|Nepomniachtchi,I|Carlsen,M|1/2-1/2|     2782|     2855|       null|       null|  draw|      null| draw|     null|                    0|C88|2022-07-22T22:33:...| WorldChamp2021|86e0b7f5-7b94-4ae...|      2|           1|       Carlsen,M|      e5|e7e5|         e7|       e5|    P|Black|rnbqkbnr/pppp1ppp...|       0|            0|             0|                     0|           0|                       0|         16|         16|               8|               8|                1|                1|                 2|                 2|                 2|                 2|               2|               2|                       0|                       0|                   8|                   7|                   0|                   1|                   0|                   0|                   0|                   0|                  31|                   7|                   0|                   1|                   0|                   0|                   0|                   0|                   0|                   0|                   0|                   0|                   1|                   0|                   7|                   8|                   0|                   0|                   0|                   0|                   1|                   0|                   7|                  31|               e4|e5|\n",
            "|86e0b7f5-7b94-4ae...|         1|WCh 2021|Dubai UAE| 2021.11.26|  1.0|Nepomniachtchi,I|Carlsen,M|1/2-1/2|     2782|     2855|       null|       null|  draw|      null| draw|     null|                    0|C88|2022-07-22T22:33:...| WorldChamp2021|86e0b7f5-7b94-4ae...|      3|           2|Nepomniachtchi,I|     Nf3|g1f3|         g1|       f3|    N|White|rnbqkbnr/pppp1ppp...|       0|            0|             0|                     0|           0|                       0|         16|         16|               8|               8|                1|                1|                 2|                 2|                 2|                 2|               2|               2|                       0|                       0|                   7|                   7|                   1|                   1|                   0|                   0|                   0|                   0|                  28|                   7|                   3|                   1|                   0|                   0|                   0|                   0|                   0|                   0|                   0|                   0|                   1|                   0|                   7|                   8|                   0|                   0|                   0|                   0|                   1|                   0|                   7|                  31|           e4|e5|Nf3|\n",
            "|86e0b7f5-7b94-4ae...|         1|WCh 2021|Dubai UAE| 2021.11.26|  1.0|Nepomniachtchi,I|Carlsen,M|1/2-1/2|     2782|     2855|       null|       null|  draw|      null| draw|     null|                    0|C88|2022-07-22T22:33:...| WorldChamp2021|86e0b7f5-7b94-4ae...|      4|           2|       Carlsen,M|     Nc6|b8c6|         b8|       c6|    N|Black|r1bqkbnr/pppp1ppp...|       0|            0|             0|                     0|           0|                       0|         16|         16|               8|               8|                1|                1|                 2|                 2|                 2|                 2|               2|               2|                       0|                       0|                   7|                   7|                   1|                   1|                   0|                   0|                   0|                   0|                  28|                   7|                   3|                   1|                   0|                   0|                   0|                   0|                   0|                   0|                   0|                   0|                   1|                   1|                   7|                   7|                   0|                   0|                   0|                   0|                   1|                   3|                   7|                  28|       e4|e5|Nf3|Nc6|\n",
            "|86e0b7f5-7b94-4ae...|         1|WCh 2021|Dubai UAE| 2021.11.26|  1.0|Nepomniachtchi,I|Carlsen,M|1/2-1/2|     2782|     2855|       null|       null|  draw|      null| draw|     null|                    0|C88|2022-07-22T22:33:...| WorldChamp2021|86e0b7f5-7b94-4ae...|      5|           3|Nepomniachtchi,I|     Bb5|f1b5|         f1|       b5|    B|White|r1bqkbnr/pppp1ppp...|       0|            0|             0|                     0|           0|                       0|         16|         16|               8|               8|                1|                1|                 2|                 2|                 2|                 2|               2|               2|                       0|                       0|                   6|                   7|                   1|                   1|                   1|                   0|                   0|                   0|                  25|                   7|                   3|                   1|                   3|                   0|                   0|                   0|                   0|                   0|                   0|                   0|                   1|                   1|                   7|                   7|                   0|                   0|                   0|                   0|                   1|                   3|                   7|                  28|   e4|e5|Nf3|Nc6|Bb5|\n",
            "|86e0b7f5-7b94-4ae...|         1|WCh 2021|Dubai UAE| 2021.11.26|  1.0|Nepomniachtchi,I|Carlsen,M|1/2-1/2|     2782|     2855|       null|       null|  draw|      null| draw|     null|                    0|C88|2022-07-22T22:33:...| WorldChamp2021|86e0b7f5-7b94-4ae...|      6|           3|       Carlsen,M|      a6|a7a6|         a7|       a6|    P|Black|r1bqkbnr/1ppp1ppp...|       0|            0|             0|                     0|           0|                       0|         16|         16|               8|               8|                1|                1|                 2|                 2|                 2|                 2|               2|               2|                       0|                       0|                   6|                   7|                   1|                   1|                   1|                   0|                   0|                   0|                  25|                   7|                   3|                   1|                   3|                   0|                   0|                   0|                   0|                   0|                   0|                   0|                   1|                   2|                   6|                   7|                   0|                   0|                   0|                   0|                   1|                   4|                   6|                  28|e4|e5|Nf3|Nc6|Bb5|a6|\n",
            "|86e0b7f5-7b94-4ae...|         1|WCh 2021|Dubai UAE| 2021.11.26|  1.0|Nepomniachtchi,I|Carlsen,M|1/2-1/2|     2782|     2855|       null|       null|  draw|      null| draw|     null|                    0|C88|2022-07-22T22:33:...| WorldChamp2021|86e0b7f5-7b94-4ae...|      7|           4|Nepomniachtchi,I|     Ba4|b5a4|         b5|       a4|    B|White|r1bqkbnr/1ppp1ppp...|       0|            0|             0|                     0|           0|                       0|         16|         16|               8|               8|                1|                1|                 2|                 2|                 2|                 2|               2|               2|                       0|                       0|                   6|                   7|                   1|                   2|                   0|                   0|                   0|                   0|                  25|                   7|                   3|                   4|                   0|                   0|                   0|                   0|                   0|                   0|                   0|                   0|                   1|                   2|                   6|                   7|                   0|                   0|                   0|                   0|                   1|                   4|                   6|                  28|e4|e5|Nf3|Nc6|Bb5...|\n",
            "|86e0b7f5-7b94-4ae...|         1|WCh 2021|Dubai UAE| 2021.11.26|  1.0|Nepomniachtchi,I|Carlsen,M|1/2-1/2|     2782|     2855|       null|       null|  draw|      null| draw|     null|                    0|C88|2022-07-22T22:33:...| WorldChamp2021|86e0b7f5-7b94-4ae...|      8|           4|       Carlsen,M|     Nf6|g8f6|         g8|       f6|    N|Black|r1bqkb1r/1ppp1ppp...|       0|            0|             0|                     0|           0|                       0|         16|         16|               8|               8|                1|                1|                 2|                 2|                 2|                 2|               2|               2|                       0|                       0|                   6|                   7|                   1|                   2|                   0|                   0|                   0|                   0|                  25|                   7|                   3|                   4|                   0|                   0|                   0|                   0|                   0|                   0|                   0|                   0|                   1|                   3|                   6|                   6|                   0|                   0|                   0|                   0|                   1|                   7|                   6|                  25|e4|e5|Nf3|Nc6|Bb5...|\n",
            "|86e0b7f5-7b94-4ae...|         1|WCh 2021|Dubai UAE| 2021.11.26|  1.0|Nepomniachtchi,I|Carlsen,M|1/2-1/2|     2782|     2855|       null|       null|  draw|      null| draw|     null|                    0|C88|2022-07-22T22:33:...| WorldChamp2021|86e0b7f5-7b94-4ae...|      9|           5|Nepomniachtchi,I|     O-O|e1g1|         e1|       g1|    K|White|r1bqkb1r/1ppp1ppp...|       0|            0|             0|                     0|           0|                       0|         16|         16|               8|               8|                1|                1|                 2|                 2|                 2|                 2|               2|               2|                       0|                       0|                   6|                   7|                   1|                   2|                   0|                   0|                   0|                   0|                  25|                   7|                   3|                   4|                   0|                   0|                   0|                   0|                   0|                   0|                   0|                   0|                   1|                   3|                   6|                   6|                   0|                   0|                   0|                   0|                   1|                   7|                   6|                  25|e4|e5|Nf3|Nc6|Bb5...|\n",
            "|86e0b7f5-7b94-4ae...|         1|WCh 2021|Dubai UAE| 2021.11.26|  1.0|Nepomniachtchi,I|Carlsen,M|1/2-1/2|     2782|     2855|       null|       null|  draw|      null| draw|     null|                    0|C88|2022-07-22T22:33:...| WorldChamp2021|86e0b7f5-7b94-4ae...|     10|           5|       Carlsen,M|     Be7|f8e7|         f8|       e7|    B|Black|r1bqk2r/1pppbppp/...|       0|            0|             0|                     0|           0|                       0|         16|         16|               8|               8|                1|                1|                 2|                 2|                 2|                 2|               2|               2|                       0|                       0|                   6|                   7|                   1|                   2|                   0|                   0|                   0|                   0|                  25|                   7|                   3|                   4|                   0|                   0|                   0|                   0|                   0|                   0|                   0|                   0|                   1|                   3|                   7|                   5|                   0|                   0|                   0|                   0|                   1|                   7|                   9|                  22|e4|e5|Nf3|Nc6|Bb5...|\n",
            "|86e0b7f5-7b94-4ae...|         1|WCh 2021|Dubai UAE| 2021.11.26|  1.0|Nepomniachtchi,I|Carlsen,M|1/2-1/2|     2782|     2855|       null|       null|  draw|      null| draw|     null|                    0|C88|2022-07-22T22:33:...| WorldChamp2021|86e0b7f5-7b94-4ae...|     11|           6|Nepomniachtchi,I|     Re1|f1e1|         f1|       e1|    R|White|r1bqk2r/1pppbppp/...|       0|            0|             0|                     0|           0|                       0|         16|         16|               8|               8|                1|                1|                 2|                 2|                 2|                 2|               2|               2|                       0|                       0|                   6|                   7|                   1|                   2|                   0|                   0|                   0|                   0|                  25|                   7|                   3|                   4|                   0|                   0|                   0|                   0|                   0|                   0|                   0|                   0|                   1|                   3|                   7|                   5|                   0|                   0|                   0|                   0|                   1|                   7|                   9|                  22|e4|e5|Nf3|Nc6|Bb5...|\n",
            "|86e0b7f5-7b94-4ae...|         1|WCh 2021|Dubai UAE| 2021.11.26|  1.0|Nepomniachtchi,I|Carlsen,M|1/2-1/2|     2782|     2855|       null|       null|  draw|      null| draw|     null|                    0|C88|2022-07-22T22:33:...| WorldChamp2021|86e0b7f5-7b94-4ae...|     12|           6|       Carlsen,M|      b5|b7b5|         b7|       b5|    P|Black|r1bqk2r/2ppbppp/p...|       0|            0|             0|                     0|           0|                       0|         16|         16|               8|               8|                1|                1|                 2|                 2|                 2|                 2|               2|               2|                       0|                       0|                   6|                   7|                   1|                   2|                   0|                   0|                   0|                   0|                  25|                   7|                   3|                   4|                   0|                   0|                   0|                   0|                   0|                   0|                   0|                   0|                   2|                   3|                   6|                   5|                   0|                   0|                   0|                   0|                   2|                   7|                   8|                  22|e4|e5|Nf3|Nc6|Bb5...|\n",
            "|86e0b7f5-7b94-4ae...|         1|WCh 2021|Dubai UAE| 2021.11.26|  1.0|Nepomniachtchi,I|Carlsen,M|1/2-1/2|     2782|     2855|       null|       null|  draw|      null| draw|     null|                    0|C88|2022-07-22T22:33:...| WorldChamp2021|86e0b7f5-7b94-4ae...|     13|           7|Nepomniachtchi,I|     Bb3|a4b3|         a4|       b3|    B|White|r1bqk2r/2ppbppp/p...|       0|            0|             0|                     0|           0|                       0|         16|         16|               8|               8|                1|                1|                 2|                 2|                 2|                 2|               2|               2|                       0|                       0|                   6|                   7|                   2|                   1|                   0|                   0|                   0|                   0|                  25|                   7|                   6|                   1|                   0|                   0|                   0|                   0|                   0|                   0|                   0|                   0|                   2|                   3|                   6|                   5|                   0|                   0|                   0|                   0|                   2|                   7|                   8|                  22|e4|e5|Nf3|Nc6|Bb5...|\n",
            "|86e0b7f5-7b94-4ae...|         1|WCh 2021|Dubai UAE| 2021.11.26|  1.0|Nepomniachtchi,I|Carlsen,M|1/2-1/2|     2782|     2855|       null|       null|  draw|      null| draw|     null|                    0|C88|2022-07-22T22:33:...| WorldChamp2021|86e0b7f5-7b94-4ae...|     14|           7|       Carlsen,M|     O-O|e8g8|         e8|       g8|    K|Black|r1bq1rk1/2ppbppp/...|       0|            0|             0|                     0|           0|                       0|         16|         16|               8|               8|                1|                1|                 2|                 2|                 2|                 2|               2|               2|                       0|                       0|                   6|                   7|                   2|                   1|                   0|                   0|                   0|                   0|                  25|                   7|                   6|                   1|                   0|                   0|                   0|                   0|                   0|                   0|                   0|                   0|                   2|                   3|                   6|                   5|                   0|                   0|                   0|                   0|                   2|                   7|                   8|                  22|e4|e5|Nf3|Nc6|Bb5...|\n",
            "|86e0b7f5-7b94-4ae...|         1|WCh 2021|Dubai UAE| 2021.11.26|  1.0|Nepomniachtchi,I|Carlsen,M|1/2-1/2|     2782|     2855|       null|       null|  draw|      null| draw|     null|                    0|C88|2022-07-22T22:33:...| WorldChamp2021|86e0b7f5-7b94-4ae...|     15|           8|Nepomniachtchi,I|      h3|h2h3|         h2|       h3|    P|White|r1bq1rk1/2ppbppp/...|       0|            0|             0|                     0|           0|                       0|         16|         16|               8|               8|                1|                1|                 2|                 2|                 2|                 2|               2|               2|                       0|                       0|                   6|                   6|                   3|                   1|                   0|                   0|                   0|                   0|                  25|                   6|                   7|                   1|                   0|                   0|                   0|                   0|                   0|                   0|                   0|                   0|                   2|                   3|                   6|                   5|                   0|                   0|                   0|                   0|                   2|                   7|                   8|                  22|e4|e5|Nf3|Nc6|Bb5...|\n",
            "|86e0b7f5-7b94-4ae...|         1|WCh 2021|Dubai UAE| 2021.11.26|  1.0|Nepomniachtchi,I|Carlsen,M|1/2-1/2|     2782|     2855|       null|       null|  draw|      null| draw|     null|                    0|C88|2022-07-22T22:33:...| WorldChamp2021|86e0b7f5-7b94-4ae...|     16|           8|       Carlsen,M|     Na5|c6a5|         c6|       a5|    N|Black|r1bq1rk1/2ppbppp/...|       0|            0|             0|                     0|           0|                       0|         16|         16|               8|               8|                1|                1|                 2|                 2|                 2|                 2|               2|               2|                       0|                       0|                   6|                   6|                   3|                   1|                   0|                   0|                   0|                   0|                  25|                   6|                   7|                   1|                   0|                   0|                   0|                   0|                   0|                   0|                   0|                   0|                   3|                   2|                   6|                   5|                   0|                   0|                   0|                   0|                   5|                   4|                   8|                  22|e4|e5|Nf3|Nc6|Bb5...|\n",
            "|86e0b7f5-7b94-4ae...|         1|WCh 2021|Dubai UAE| 2021.11.26|  1.0|Nepomniachtchi,I|Carlsen,M|1/2-1/2|     2782|     2855|       null|       null|  draw|      null| draw|     null|                    0|C88|2022-07-22T22:33:...| WorldChamp2021|86e0b7f5-7b94-4ae...|     17|           9|Nepomniachtchi,I|    Nxe5|f3e5|         f3|       e5|    N|White|r1bq1rk1/2ppbppp/...|       0|            0|             0|                     0|           0|                       0|         16|         15|               8|               7|                1|                1|                 2|                 2|                 2|                 2|               2|               2|                       1|                       0|                   6|                   6|                   2|                   1|                   1|                   0|                   0|                   0|                  25|                   6|                   4|                   1|                   3|                   0|                   0|                   0|                   0|                   0|                   0|                   0|                   2|                   2|                   6|                   5|                   0|                   0|                   0|                   0|                   4|                   4|                   8|                  22|e4|e5|Nf3|Nc6|Bb5...|\n",
            "|86e0b7f5-7b94-4ae...|         1|WCh 2021|Dubai UAE| 2021.11.26|  1.0|Nepomniachtchi,I|Carlsen,M|1/2-1/2|     2782|     2855|       null|       null|  draw|      null| draw|     null|                    0|C88|2022-07-22T22:33:...| WorldChamp2021|86e0b7f5-7b94-4ae...|     18|           9|       Carlsen,M|    Nxb3|a5b3|         a5|       b3|    N|Black|r1bq1rk1/2ppbppp/...|       0|            0|             0|                     0|           0|                       0|         15|         15|               8|               7|                1|                1|                 1|                 2|                 2|                 2|               2|               2|                       1|                       3|                   6|                   6|                   1|                   1|                   1|                   0|                   0|                   0|                  25|                   6|                   1|                   1|                   3|                   0|                   0|                   0|                   0|                   0|                   1|                   0|                   1|                   2|                   6|                   5|                   0|                   0|                   3|                   0|                   1|                   4|                   8|                  22|e4|e5|Nf3|Nc6|Bb5...|\n",
            "|86e0b7f5-7b94-4ae...|         1|WCh 2021|Dubai UAE| 2021.11.26|  1.0|Nepomniachtchi,I|Carlsen,M|1/2-1/2|     2782|     2855|       null|       null|  draw|      null| draw|     null|                    0|C88|2022-07-22T22:33:...| WorldChamp2021|86e0b7f5-7b94-4ae...|     19|          10|Nepomniachtchi,I|    axb3|a2b3|         a2|       b3|    P|White|r1bq1rk1/2ppbppp/...|       0|            0|             0|                     0|           0|                       0|         15|         14|               8|               7|                1|                1|                 1|                 2|                 2|                 1|               2|               2|                       4|                       3|                   6|                   5|                   2|                   1|                   1|                   0|                   0|                   0|                  25|                   5|                   2|                   1|                   3|                   0|                   0|                   0|                   0|                   0|                   0|                   0|                   1|                   2|                   6|                   5|                   0|                   0|                   0|                   0|                   1|                   4|                   8|                  22|e4|e5|Nf3|Nc6|Bb5...|\n",
            "|86e0b7f5-7b94-4ae...|         1|WCh 2021|Dubai UAE| 2021.11.26|  1.0|Nepomniachtchi,I|Carlsen,M|1/2-1/2|     2782|     2855|       null|       null|  draw|      null| draw|     null|                    0|C88|2022-07-22T22:33:...| WorldChamp2021|86e0b7f5-7b94-4ae...|     20|          10|       Carlsen,M|     Bb7|c8b7|         c8|       b7|    B|Black|r2q1rk1/1bppbppp/...|       0|            0|             0|                     0|           0|                       0|         15|         14|               8|               7|                1|                1|                 1|                 2|                 2|                 1|               2|               2|                       4|                       3|                   6|                   5|                   2|                   1|                   1|                   0|                   0|                   0|                  25|                   5|                   2|                   1|                   3|                   0|                   0|                   0|                   0|                   0|                   0|                   0|                   1|                   2|                   7|                   4|                   0|                   0|                   0|                   0|                   1|                   4|                  11|                  19|e4|e5|Nf3|Nc6|Bb5...|\n",
            "+--------------------+----------+--------+---------+-----------+-----+----------------+---------+-------+---------+---------+-----------+-----------+------+----------+-----+---------+---------------------+---+--------------------+---------------+--------------------+-------+------------+----------------+--------+----+-----------+---------+-----+-----+--------------------+--------+-------------+--------------+----------------------+------------+------------------------+-----------+-----------+----------------+----------------+-----------------+-----------------+------------------+------------------+------------------+------------------+----------------+----------------+------------------------+------------------------+--------------------+--------------------+--------------------+--------------------+--------------------+--------------------+--------------------+--------------------+--------------------+--------------------+--------------------+--------------------+--------------------+--------------------+--------------------+--------------------+--------------------+--------------------+--------------------+--------------------+--------------------+--------------------+--------------------+--------------------+--------------------+--------------------+--------------------+--------------------+--------------------+--------------------+--------------------+--------------------+--------------------+\n",
            "only showing top 20 rows\n",
            "\n"
          ]
        }
      ]
    },
    {
      "cell_type": "code",
      "source": [
        "li=history_game.join(history_moves,[\"game_id\"]).show()\n",
        "li"
      ],
      "metadata": {
        "colab": {
          "base_uri": "https://localhost:8080/"
        },
        "id": "_hUpC0xNHZn1",
        "outputId": "b70f1cdd-94e0-45d9-90f8-c463981b1dc4"
      },
      "execution_count": null,
      "outputs": [
        {
          "output_type": "stream",
          "name": "stdout",
          "text": [
            "+--------------------+----------+--------+---------+-----------+-----+----------------+---------+-------+---------+---------+-----------+-----------+------+----------+-----+---------+---------------------+---+--------------------+---------------+-------+------------+----------------+--------+----+-----------+---------+-----+-----+--------------------+--------+-------------+--------------+----------------------+------------+------------------------+-----------+-----------+----------------+----------------+-----------------+-----------------+------------------+------------------+------------------+------------------+----------------+----------------+------------------------+------------------------+--------------------+--------------------+--------------------+--------------------+--------------------+--------------------+--------------------+--------------------+--------------------+--------------------+--------------------+--------------------+--------------------+--------------------+--------------------+--------------------+--------------------+--------------------+--------------------+--------------------+--------------------+--------------------+--------------------+--------------------+--------------------+--------------------+--------------------+--------------------+--------------------+--------------------+--------------------+--------------------+--------------------+\n",
            "|             game_id|game_order|   event|     site|date_played|round|           white|    black| result|white_elo|black_elo|white_title|black_title|winner|winner_elo|loser|loser_elo|winner_loser_elo_diff|eco|        date_created|tournament_name|move_no|move_no_pair|          player|notation|move|from_square|to_square|piece|color|                 fen|is_check|is_check_mate|is_fifty_moves|is_fivefold_repetition|is_game_over|is_insufficient_material|white_count|black_count|white_pawn_count|black_pawn_count|white_queen_count|black_queen_count|white_bishop_count|black_bishop_count|white_knight_count|black_knight_count|white_rook_count|black_rook_count|captured_score_for_white|captured_score_for_black|fen_row1_white_count|fen_row2_white_count|fen_row3_white_count|fen_row4_white_count|fen_row5_white_count|fen_row6_white_count|fen_row7_white_count|fen_row8_white_count|fen_row1_white_value|fen_row2_white_value|fen_row3_white_value|fen_row4_white_value|fen_row5_white_value|fen_row6_white_value|fen_row7_white_value|fen_row8_white_value|fen_row1_black_count|fen_row2_black_count|fen_row3_black_count|fen_row4_black_count|fen_row5_black_count|fen_row6_black_count|fen_row7_black_count|fen_row8_black_count|fen_row1_black_value|fen_row2_black_value|fen_row3_black_value|fen_row4_black_value|fen_row5_black_value|fen_row6_black_value|fen_row7_black_value|fen_row8_black_value|       move_sequence|\n",
            "+--------------------+----------+--------+---------+-----------+-----+----------------+---------+-------+---------+---------+-----------+-----------+------+----------+-----+---------+---------------------+---+--------------------+---------------+-------+------------+----------------+--------+----+-----------+---------+-----+-----+--------------------+--------+-------------+--------------+----------------------+------------+------------------------+-----------+-----------+----------------+----------------+-----------------+-----------------+------------------+------------------+------------------+------------------+----------------+----------------+------------------------+------------------------+--------------------+--------------------+--------------------+--------------------+--------------------+--------------------+--------------------+--------------------+--------------------+--------------------+--------------------+--------------------+--------------------+--------------------+--------------------+--------------------+--------------------+--------------------+--------------------+--------------------+--------------------+--------------------+--------------------+--------------------+--------------------+--------------------+--------------------+--------------------+--------------------+--------------------+--------------------+--------------------+--------------------+\n",
            "|86e0b7f5-7b94-4ae...|         1|WCh 2021|Dubai UAE| 2021.11.26|  1.0|Nepomniachtchi,I|Carlsen,M|1/2-1/2|     2782|     2855|       null|       null|  draw|      null| draw|     null|                    0|C88|2022-07-22T22:33:...| WorldChamp2021|      1|           1|Nepomniachtchi,I|      e4|e2e4|         e2|       e4|    P|White|rnbqkbnr/pppppppp...|       0|            0|             0|                     0|           0|                       0|         16|         16|               8|               8|                1|                1|                 2|                 2|                 2|                 2|               2|               2|                       0|                       0|                   8|                   7|                   0|                   1|                   0|                   0|                   0|                   0|                  31|                   7|                   0|                   1|                   0|                   0|                   0|                   0|                   0|                   0|                   0|                   0|                   0|                   0|                   8|                   8|                   0|                   0|                   0|                   0|                   0|                   0|                   8|                  31|                  e4|\n",
            "|86e0b7f5-7b94-4ae...|         1|WCh 2021|Dubai UAE| 2021.11.26|  1.0|Nepomniachtchi,I|Carlsen,M|1/2-1/2|     2782|     2855|       null|       null|  draw|      null| draw|     null|                    0|C88|2022-07-22T22:33:...| WorldChamp2021|      2|           1|       Carlsen,M|      e5|e7e5|         e7|       e5|    P|Black|rnbqkbnr/pppp1ppp...|       0|            0|             0|                     0|           0|                       0|         16|         16|               8|               8|                1|                1|                 2|                 2|                 2|                 2|               2|               2|                       0|                       0|                   8|                   7|                   0|                   1|                   0|                   0|                   0|                   0|                  31|                   7|                   0|                   1|                   0|                   0|                   0|                   0|                   0|                   0|                   0|                   0|                   1|                   0|                   7|                   8|                   0|                   0|                   0|                   0|                   1|                   0|                   7|                  31|               e4|e5|\n",
            "|86e0b7f5-7b94-4ae...|         1|WCh 2021|Dubai UAE| 2021.11.26|  1.0|Nepomniachtchi,I|Carlsen,M|1/2-1/2|     2782|     2855|       null|       null|  draw|      null| draw|     null|                    0|C88|2022-07-22T22:33:...| WorldChamp2021|      3|           2|Nepomniachtchi,I|     Nf3|g1f3|         g1|       f3|    N|White|rnbqkbnr/pppp1ppp...|       0|            0|             0|                     0|           0|                       0|         16|         16|               8|               8|                1|                1|                 2|                 2|                 2|                 2|               2|               2|                       0|                       0|                   7|                   7|                   1|                   1|                   0|                   0|                   0|                   0|                  28|                   7|                   3|                   1|                   0|                   0|                   0|                   0|                   0|                   0|                   0|                   0|                   1|                   0|                   7|                   8|                   0|                   0|                   0|                   0|                   1|                   0|                   7|                  31|           e4|e5|Nf3|\n",
            "|86e0b7f5-7b94-4ae...|         1|WCh 2021|Dubai UAE| 2021.11.26|  1.0|Nepomniachtchi,I|Carlsen,M|1/2-1/2|     2782|     2855|       null|       null|  draw|      null| draw|     null|                    0|C88|2022-07-22T22:33:...| WorldChamp2021|      4|           2|       Carlsen,M|     Nc6|b8c6|         b8|       c6|    N|Black|r1bqkbnr/pppp1ppp...|       0|            0|             0|                     0|           0|                       0|         16|         16|               8|               8|                1|                1|                 2|                 2|                 2|                 2|               2|               2|                       0|                       0|                   7|                   7|                   1|                   1|                   0|                   0|                   0|                   0|                  28|                   7|                   3|                   1|                   0|                   0|                   0|                   0|                   0|                   0|                   0|                   0|                   1|                   1|                   7|                   7|                   0|                   0|                   0|                   0|                   1|                   3|                   7|                  28|       e4|e5|Nf3|Nc6|\n",
            "|86e0b7f5-7b94-4ae...|         1|WCh 2021|Dubai UAE| 2021.11.26|  1.0|Nepomniachtchi,I|Carlsen,M|1/2-1/2|     2782|     2855|       null|       null|  draw|      null| draw|     null|                    0|C88|2022-07-22T22:33:...| WorldChamp2021|      5|           3|Nepomniachtchi,I|     Bb5|f1b5|         f1|       b5|    B|White|r1bqkbnr/pppp1ppp...|       0|            0|             0|                     0|           0|                       0|         16|         16|               8|               8|                1|                1|                 2|                 2|                 2|                 2|               2|               2|                       0|                       0|                   6|                   7|                   1|                   1|                   1|                   0|                   0|                   0|                  25|                   7|                   3|                   1|                   3|                   0|                   0|                   0|                   0|                   0|                   0|                   0|                   1|                   1|                   7|                   7|                   0|                   0|                   0|                   0|                   1|                   3|                   7|                  28|   e4|e5|Nf3|Nc6|Bb5|\n",
            "|86e0b7f5-7b94-4ae...|         1|WCh 2021|Dubai UAE| 2021.11.26|  1.0|Nepomniachtchi,I|Carlsen,M|1/2-1/2|     2782|     2855|       null|       null|  draw|      null| draw|     null|                    0|C88|2022-07-22T22:33:...| WorldChamp2021|      6|           3|       Carlsen,M|      a6|a7a6|         a7|       a6|    P|Black|r1bqkbnr/1ppp1ppp...|       0|            0|             0|                     0|           0|                       0|         16|         16|               8|               8|                1|                1|                 2|                 2|                 2|                 2|               2|               2|                       0|                       0|                   6|                   7|                   1|                   1|                   1|                   0|                   0|                   0|                  25|                   7|                   3|                   1|                   3|                   0|                   0|                   0|                   0|                   0|                   0|                   0|                   1|                   2|                   6|                   7|                   0|                   0|                   0|                   0|                   1|                   4|                   6|                  28|e4|e5|Nf3|Nc6|Bb5|a6|\n",
            "|86e0b7f5-7b94-4ae...|         1|WCh 2021|Dubai UAE| 2021.11.26|  1.0|Nepomniachtchi,I|Carlsen,M|1/2-1/2|     2782|     2855|       null|       null|  draw|      null| draw|     null|                    0|C88|2022-07-22T22:33:...| WorldChamp2021|      7|           4|Nepomniachtchi,I|     Ba4|b5a4|         b5|       a4|    B|White|r1bqkbnr/1ppp1ppp...|       0|            0|             0|                     0|           0|                       0|         16|         16|               8|               8|                1|                1|                 2|                 2|                 2|                 2|               2|               2|                       0|                       0|                   6|                   7|                   1|                   2|                   0|                   0|                   0|                   0|                  25|                   7|                   3|                   4|                   0|                   0|                   0|                   0|                   0|                   0|                   0|                   0|                   1|                   2|                   6|                   7|                   0|                   0|                   0|                   0|                   1|                   4|                   6|                  28|e4|e5|Nf3|Nc6|Bb5...|\n",
            "|86e0b7f5-7b94-4ae...|         1|WCh 2021|Dubai UAE| 2021.11.26|  1.0|Nepomniachtchi,I|Carlsen,M|1/2-1/2|     2782|     2855|       null|       null|  draw|      null| draw|     null|                    0|C88|2022-07-22T22:33:...| WorldChamp2021|      8|           4|       Carlsen,M|     Nf6|g8f6|         g8|       f6|    N|Black|r1bqkb1r/1ppp1ppp...|       0|            0|             0|                     0|           0|                       0|         16|         16|               8|               8|                1|                1|                 2|                 2|                 2|                 2|               2|               2|                       0|                       0|                   6|                   7|                   1|                   2|                   0|                   0|                   0|                   0|                  25|                   7|                   3|                   4|                   0|                   0|                   0|                   0|                   0|                   0|                   0|                   0|                   1|                   3|                   6|                   6|                   0|                   0|                   0|                   0|                   1|                   7|                   6|                  25|e4|e5|Nf3|Nc6|Bb5...|\n",
            "|86e0b7f5-7b94-4ae...|         1|WCh 2021|Dubai UAE| 2021.11.26|  1.0|Nepomniachtchi,I|Carlsen,M|1/2-1/2|     2782|     2855|       null|       null|  draw|      null| draw|     null|                    0|C88|2022-07-22T22:33:...| WorldChamp2021|      9|           5|Nepomniachtchi,I|     O-O|e1g1|         e1|       g1|    K|White|r1bqkb1r/1ppp1ppp...|       0|            0|             0|                     0|           0|                       0|         16|         16|               8|               8|                1|                1|                 2|                 2|                 2|                 2|               2|               2|                       0|                       0|                   6|                   7|                   1|                   2|                   0|                   0|                   0|                   0|                  25|                   7|                   3|                   4|                   0|                   0|                   0|                   0|                   0|                   0|                   0|                   0|                   1|                   3|                   6|                   6|                   0|                   0|                   0|                   0|                   1|                   7|                   6|                  25|e4|e5|Nf3|Nc6|Bb5...|\n",
            "|86e0b7f5-7b94-4ae...|         1|WCh 2021|Dubai UAE| 2021.11.26|  1.0|Nepomniachtchi,I|Carlsen,M|1/2-1/2|     2782|     2855|       null|       null|  draw|      null| draw|     null|                    0|C88|2022-07-22T22:33:...| WorldChamp2021|     10|           5|       Carlsen,M|     Be7|f8e7|         f8|       e7|    B|Black|r1bqk2r/1pppbppp/...|       0|            0|             0|                     0|           0|                       0|         16|         16|               8|               8|                1|                1|                 2|                 2|                 2|                 2|               2|               2|                       0|                       0|                   6|                   7|                   1|                   2|                   0|                   0|                   0|                   0|                  25|                   7|                   3|                   4|                   0|                   0|                   0|                   0|                   0|                   0|                   0|                   0|                   1|                   3|                   7|                   5|                   0|                   0|                   0|                   0|                   1|                   7|                   9|                  22|e4|e5|Nf3|Nc6|Bb5...|\n",
            "|86e0b7f5-7b94-4ae...|         1|WCh 2021|Dubai UAE| 2021.11.26|  1.0|Nepomniachtchi,I|Carlsen,M|1/2-1/2|     2782|     2855|       null|       null|  draw|      null| draw|     null|                    0|C88|2022-07-22T22:33:...| WorldChamp2021|     11|           6|Nepomniachtchi,I|     Re1|f1e1|         f1|       e1|    R|White|r1bqk2r/1pppbppp/...|       0|            0|             0|                     0|           0|                       0|         16|         16|               8|               8|                1|                1|                 2|                 2|                 2|                 2|               2|               2|                       0|                       0|                   6|                   7|                   1|                   2|                   0|                   0|                   0|                   0|                  25|                   7|                   3|                   4|                   0|                   0|                   0|                   0|                   0|                   0|                   0|                   0|                   1|                   3|                   7|                   5|                   0|                   0|                   0|                   0|                   1|                   7|                   9|                  22|e4|e5|Nf3|Nc6|Bb5...|\n",
            "|86e0b7f5-7b94-4ae...|         1|WCh 2021|Dubai UAE| 2021.11.26|  1.0|Nepomniachtchi,I|Carlsen,M|1/2-1/2|     2782|     2855|       null|       null|  draw|      null| draw|     null|                    0|C88|2022-07-22T22:33:...| WorldChamp2021|     12|           6|       Carlsen,M|      b5|b7b5|         b7|       b5|    P|Black|r1bqk2r/2ppbppp/p...|       0|            0|             0|                     0|           0|                       0|         16|         16|               8|               8|                1|                1|                 2|                 2|                 2|                 2|               2|               2|                       0|                       0|                   6|                   7|                   1|                   2|                   0|                   0|                   0|                   0|                  25|                   7|                   3|                   4|                   0|                   0|                   0|                   0|                   0|                   0|                   0|                   0|                   2|                   3|                   6|                   5|                   0|                   0|                   0|                   0|                   2|                   7|                   8|                  22|e4|e5|Nf3|Nc6|Bb5...|\n",
            "|86e0b7f5-7b94-4ae...|         1|WCh 2021|Dubai UAE| 2021.11.26|  1.0|Nepomniachtchi,I|Carlsen,M|1/2-1/2|     2782|     2855|       null|       null|  draw|      null| draw|     null|                    0|C88|2022-07-22T22:33:...| WorldChamp2021|     13|           7|Nepomniachtchi,I|     Bb3|a4b3|         a4|       b3|    B|White|r1bqk2r/2ppbppp/p...|       0|            0|             0|                     0|           0|                       0|         16|         16|               8|               8|                1|                1|                 2|                 2|                 2|                 2|               2|               2|                       0|                       0|                   6|                   7|                   2|                   1|                   0|                   0|                   0|                   0|                  25|                   7|                   6|                   1|                   0|                   0|                   0|                   0|                   0|                   0|                   0|                   0|                   2|                   3|                   6|                   5|                   0|                   0|                   0|                   0|                   2|                   7|                   8|                  22|e4|e5|Nf3|Nc6|Bb5...|\n",
            "|86e0b7f5-7b94-4ae...|         1|WCh 2021|Dubai UAE| 2021.11.26|  1.0|Nepomniachtchi,I|Carlsen,M|1/2-1/2|     2782|     2855|       null|       null|  draw|      null| draw|     null|                    0|C88|2022-07-22T22:33:...| WorldChamp2021|     14|           7|       Carlsen,M|     O-O|e8g8|         e8|       g8|    K|Black|r1bq1rk1/2ppbppp/...|       0|            0|             0|                     0|           0|                       0|         16|         16|               8|               8|                1|                1|                 2|                 2|                 2|                 2|               2|               2|                       0|                       0|                   6|                   7|                   2|                   1|                   0|                   0|                   0|                   0|                  25|                   7|                   6|                   1|                   0|                   0|                   0|                   0|                   0|                   0|                   0|                   0|                   2|                   3|                   6|                   5|                   0|                   0|                   0|                   0|                   2|                   7|                   8|                  22|e4|e5|Nf3|Nc6|Bb5...|\n",
            "|86e0b7f5-7b94-4ae...|         1|WCh 2021|Dubai UAE| 2021.11.26|  1.0|Nepomniachtchi,I|Carlsen,M|1/2-1/2|     2782|     2855|       null|       null|  draw|      null| draw|     null|                    0|C88|2022-07-22T22:33:...| WorldChamp2021|     15|           8|Nepomniachtchi,I|      h3|h2h3|         h2|       h3|    P|White|r1bq1rk1/2ppbppp/...|       0|            0|             0|                     0|           0|                       0|         16|         16|               8|               8|                1|                1|                 2|                 2|                 2|                 2|               2|               2|                       0|                       0|                   6|                   6|                   3|                   1|                   0|                   0|                   0|                   0|                  25|                   6|                   7|                   1|                   0|                   0|                   0|                   0|                   0|                   0|                   0|                   0|                   2|                   3|                   6|                   5|                   0|                   0|                   0|                   0|                   2|                   7|                   8|                  22|e4|e5|Nf3|Nc6|Bb5...|\n",
            "|86e0b7f5-7b94-4ae...|         1|WCh 2021|Dubai UAE| 2021.11.26|  1.0|Nepomniachtchi,I|Carlsen,M|1/2-1/2|     2782|     2855|       null|       null|  draw|      null| draw|     null|                    0|C88|2022-07-22T22:33:...| WorldChamp2021|     16|           8|       Carlsen,M|     Na5|c6a5|         c6|       a5|    N|Black|r1bq1rk1/2ppbppp/...|       0|            0|             0|                     0|           0|                       0|         16|         16|               8|               8|                1|                1|                 2|                 2|                 2|                 2|               2|               2|                       0|                       0|                   6|                   6|                   3|                   1|                   0|                   0|                   0|                   0|                  25|                   6|                   7|                   1|                   0|                   0|                   0|                   0|                   0|                   0|                   0|                   0|                   3|                   2|                   6|                   5|                   0|                   0|                   0|                   0|                   5|                   4|                   8|                  22|e4|e5|Nf3|Nc6|Bb5...|\n",
            "|86e0b7f5-7b94-4ae...|         1|WCh 2021|Dubai UAE| 2021.11.26|  1.0|Nepomniachtchi,I|Carlsen,M|1/2-1/2|     2782|     2855|       null|       null|  draw|      null| draw|     null|                    0|C88|2022-07-22T22:33:...| WorldChamp2021|     17|           9|Nepomniachtchi,I|    Nxe5|f3e5|         f3|       e5|    N|White|r1bq1rk1/2ppbppp/...|       0|            0|             0|                     0|           0|                       0|         16|         15|               8|               7|                1|                1|                 2|                 2|                 2|                 2|               2|               2|                       1|                       0|                   6|                   6|                   2|                   1|                   1|                   0|                   0|                   0|                  25|                   6|                   4|                   1|                   3|                   0|                   0|                   0|                   0|                   0|                   0|                   0|                   2|                   2|                   6|                   5|                   0|                   0|                   0|                   0|                   4|                   4|                   8|                  22|e4|e5|Nf3|Nc6|Bb5...|\n",
            "|86e0b7f5-7b94-4ae...|         1|WCh 2021|Dubai UAE| 2021.11.26|  1.0|Nepomniachtchi,I|Carlsen,M|1/2-1/2|     2782|     2855|       null|       null|  draw|      null| draw|     null|                    0|C88|2022-07-22T22:33:...| WorldChamp2021|     18|           9|       Carlsen,M|    Nxb3|a5b3|         a5|       b3|    N|Black|r1bq1rk1/2ppbppp/...|       0|            0|             0|                     0|           0|                       0|         15|         15|               8|               7|                1|                1|                 1|                 2|                 2|                 2|               2|               2|                       1|                       3|                   6|                   6|                   1|                   1|                   1|                   0|                   0|                   0|                  25|                   6|                   1|                   1|                   3|                   0|                   0|                   0|                   0|                   0|                   1|                   0|                   1|                   2|                   6|                   5|                   0|                   0|                   3|                   0|                   1|                   4|                   8|                  22|e4|e5|Nf3|Nc6|Bb5...|\n",
            "|86e0b7f5-7b94-4ae...|         1|WCh 2021|Dubai UAE| 2021.11.26|  1.0|Nepomniachtchi,I|Carlsen,M|1/2-1/2|     2782|     2855|       null|       null|  draw|      null| draw|     null|                    0|C88|2022-07-22T22:33:...| WorldChamp2021|     19|          10|Nepomniachtchi,I|    axb3|a2b3|         a2|       b3|    P|White|r1bq1rk1/2ppbppp/...|       0|            0|             0|                     0|           0|                       0|         15|         14|               8|               7|                1|                1|                 1|                 2|                 2|                 1|               2|               2|                       4|                       3|                   6|                   5|                   2|                   1|                   1|                   0|                   0|                   0|                  25|                   5|                   2|                   1|                   3|                   0|                   0|                   0|                   0|                   0|                   0|                   0|                   1|                   2|                   6|                   5|                   0|                   0|                   0|                   0|                   1|                   4|                   8|                  22|e4|e5|Nf3|Nc6|Bb5...|\n",
            "|86e0b7f5-7b94-4ae...|         1|WCh 2021|Dubai UAE| 2021.11.26|  1.0|Nepomniachtchi,I|Carlsen,M|1/2-1/2|     2782|     2855|       null|       null|  draw|      null| draw|     null|                    0|C88|2022-07-22T22:33:...| WorldChamp2021|     20|          10|       Carlsen,M|     Bb7|c8b7|         c8|       b7|    B|Black|r2q1rk1/1bppbppp/...|       0|            0|             0|                     0|           0|                       0|         15|         14|               8|               7|                1|                1|                 1|                 2|                 2|                 1|               2|               2|                       4|                       3|                   6|                   5|                   2|                   1|                   1|                   0|                   0|                   0|                  25|                   5|                   2|                   1|                   3|                   0|                   0|                   0|                   0|                   0|                   0|                   0|                   1|                   2|                   7|                   4|                   0|                   0|                   0|                   0|                   1|                   4|                  11|                  19|e4|e5|Nf3|Nc6|Bb5...|\n",
            "+--------------------+----------+--------+---------+-----------+-----+----------------+---------+-------+---------+---------+-----------+-----------+------+----------+-----+---------+---------------------+---+--------------------+---------------+-------+------------+----------------+--------+----+-----------+---------+-----+-----+--------------------+--------+-------------+--------------+----------------------+------------+------------------------+-----------+-----------+----------------+----------------+-----------------+-----------------+------------------+------------------+------------------+------------------+----------------+----------------+------------------------+------------------------+--------------------+--------------------+--------------------+--------------------+--------------------+--------------------+--------------------+--------------------+--------------------+--------------------+--------------------+--------------------+--------------------+--------------------+--------------------+--------------------+--------------------+--------------------+--------------------+--------------------+--------------------+--------------------+--------------------+--------------------+--------------------+--------------------+--------------------+--------------------+--------------------+--------------------+--------------------+--------------------+--------------------+\n",
            "only showing top 20 rows\n",
            "\n"
          ]
        }
      ]
    },
    {
      "cell_type": "code",
      "source": [],
      "metadata": {
        "id": "_dvm1OWTH0r8"
      },
      "execution_count": null,
      "outputs": []
    }
  ],
  "metadata": {
    "colab": {
      "collapsed_sections": [],
      "provenance": []
    },
    "kernelspec": {
      "display_name": "Python 3",
      "name": "python3"
    },
    "language_info": {
      "name": "python"
    }
  },
  "nbformat": 4,
  "nbformat_minor": 0
}