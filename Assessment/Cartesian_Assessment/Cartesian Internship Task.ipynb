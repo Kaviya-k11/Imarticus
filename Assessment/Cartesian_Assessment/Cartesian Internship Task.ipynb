{
 "cells": [
  {
   "cell_type": "markdown",
   "id": "ac09d062",
   "metadata": {},
   "source": [
    "## Prints each word in reverse"
   ]
  },
  {
   "cell_type": "code",
   "execution_count": 7,
   "id": "e51a58e2",
   "metadata": {},
   "outputs": [
    {
     "name": "stdout",
     "output_type": "stream",
     "text": [
      "This declaration represents a political commitment among declaration partners to advance a positive vision for the Internet in this era of a united europe\n"
     ]
    }
   ],
   "source": [
    "s=input().split(\" \")\n",
    "s=\" \".join(s[::-1]).capitalize()"
   ]
  },
  {
   "cell_type": "code",
   "execution_count": 8,
   "id": "3259f738",
   "metadata": {},
   "outputs": [
    {
     "data": {
      "text/plain": [
       "'Europe united a of era this in internet the for vision positive a advance to partners declaration among commitment political a represents declaration this'"
      ]
     },
     "execution_count": 8,
     "metadata": {},
     "output_type": "execute_result"
    }
   ],
   "source": [
    "s"
   ]
  },
  {
   "cell_type": "markdown",
   "id": "ae5fe32e",
   "metadata": {},
   "source": [
    "## Prints Top 2 occurring words in sorted order. The words that have occurred most of the time"
   ]
  },
  {
   "cell_type": "code",
   "execution_count": 9,
   "id": "32c9fe1a",
   "metadata": {},
   "outputs": [
    {
     "name": "stdout",
     "output_type": "stream",
     "text": [
      "{'Europe': 1, 'united': 1, 'a': 3, 'of': 1, 'era': 1, 'this': 2, 'in': 1, 'internet': 1, 'the': 1, 'for': 1, 'vision': 1, 'positive': 1, 'advance': 1, 'to': 1, 'partners': 1, 'declaration': 2, 'among': 1, 'commitment': 1, 'political': 1, 'represents': 1}\n"
     ]
    }
   ],
   "source": [
    "s=s.split(\" \")\n",
    "l={}\n",
    "for i in s:\n",
    "    if i in l:\n",
    "        l[i]=l[i]+1\n",
    "    else:\n",
    "        l[i]=1\n",
    "print(l)"
   ]
  },
  {
   "cell_type": "code",
   "execution_count": 16,
   "id": "b9b00c63",
   "metadata": {},
   "outputs": [
    {
     "name": "stdout",
     "output_type": "stream",
     "text": [
      "a    : 3 times\n",
      "this  :  2 times\n"
     ]
    }
   ],
   "source": [
    "sorted_dict=sorted(l.items(),key=lambda items:items[1],reverse=2)\n",
    "print(sorted_dict[0][0],\"   :\",sorted_dict[0][1],\"times\")\n",
    "print(sorted_dict[1][0],\" : \",sorted_dict[1][1],\"times\")"
   ]
  }
 ],
 "metadata": {
  "kernelspec": {
   "display_name": "Python 3 (ipykernel)",
   "language": "python",
   "name": "python3"
  },
  "language_info": {
   "codemirror_mode": {
    "name": "ipython",
    "version": 3
   },
   "file_extension": ".py",
   "mimetype": "text/x-python",
   "name": "python",
   "nbconvert_exporter": "python",
   "pygments_lexer": "ipython3",
   "version": "3.9.7"
  }
 },
 "nbformat": 4,
 "nbformat_minor": 5
}
