{
 "cells": [
  {
   "cell_type": "code",
   "execution_count": 10,
   "id": "ee0359c2",
   "metadata": {},
   "outputs": [
    {
     "name": "stdout",
     "output_type": "stream",
     "text": [
      "original string : ['santa Maria', 'Hello World', 'Merry christmas', 'tHank You']\n",
      "['Maria', 'Hello', 'World', 'Merry', 'You']\n"
     ]
    }
   ],
   "source": [
    "namesList = ['santa Maria', 'Hello World','Merry christmas', 'tHank You']  \n",
    "print(\"original string : \" + str(namesList))\n",
    "a=[]\n",
    "for i in namesList:\n",
    "    x=i.split(\" \")\n",
    "    for j in x:\n",
    "        if j[0].isupper():\n",
    "            a.append(j)\n",
    "print(a)"
   ]
  },
  {
   "cell_type": "code",
   "execution_count": null,
   "id": "34501d5b",
   "metadata": {},
   "outputs": [],
   "source": []
  },
  {
   "cell_type": "code",
   "execution_count": null,
   "id": "1cd6df54",
   "metadata": {},
   "outputs": [],
   "source": []
  }
 ],
 "metadata": {
  "kernelspec": {
   "display_name": "Python 3 (ipykernel)",
   "language": "python",
   "name": "python3"
  },
  "language_info": {
   "codemirror_mode": {
    "name": "ipython",
    "version": 3
   },
   "file_extension": ".py",
   "mimetype": "text/x-python",
   "name": "python",
   "nbconvert_exporter": "python",
   "pygments_lexer": "ipython3",
   "version": "3.9.7"
  }
 },
 "nbformat": 4,
 "nbformat_minor": 5
}
