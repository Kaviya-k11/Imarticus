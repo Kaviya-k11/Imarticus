{
 "cells": [
  {
   "cell_type": "code",
   "execution_count": 4,
   "id": "ddaf7bde",
   "metadata": {},
   "outputs": [
    {
     "name": "stdout",
     "output_type": "stream",
     "text": [
      "152.2360679774998\n"
     ]
    }
   ],
   "source": [
    "def dict(n):\n",
    "    d = { 'Square': lambda a : a**2, \n",
    "         'Cube': lambda a : a**3, \n",
    "         'Squareroot': lambda a : a**(1/2) }\n",
    "    res= 0\n",
    "    for key in d.keys():\n",
    "        res+= d[key](n)\n",
    "    return res\n",
    "    \n",
    "print(dict(5))"
   ]
  },
  {
   "cell_type": "code",
   "execution_count": null,
   "id": "1f8fc210",
   "metadata": {},
   "outputs": [],
   "source": []
  },
  {
   "cell_type": "code",
   "execution_count": null,
   "id": "502d59dd",
   "metadata": {},
   "outputs": [],
   "source": []
  }
 ],
 "metadata": {
  "kernelspec": {
   "display_name": "Python 3 (ipykernel)",
   "language": "python",
   "name": "python3"
  },
  "language_info": {
   "codemirror_mode": {
    "name": "ipython",
    "version": 3
   },
   "file_extension": ".py",
   "mimetype": "text/x-python",
   "name": "python",
   "nbconvert_exporter": "python",
   "pygments_lexer": "ipython3",
   "version": "3.9.7"
  }
 },
 "nbformat": 4,
 "nbformat_minor": 5
}
